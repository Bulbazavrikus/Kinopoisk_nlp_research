{
 "cells": [
  {
   "cell_type": "code",
   "execution_count": 1,
   "id": "b6f3942f-64d5-4ec9-a9fe-00e1c958a462",
   "metadata": {},
   "outputs": [
    {
     "data": {
      "text/plain": [
       "16"
      ]
     },
     "execution_count": 1,
     "metadata": {},
     "output_type": "execute_result"
    }
   ],
   "source": [
    "from joblib import Parallel, delayed\n",
    "import matplotlib.pyplot as plt\n",
    "import seaborn as sns\n",
    "import multiprocessing\n",
    "import nltk\n",
    "from nltk.corpus import stopwords\n",
    "import numpy as np\n",
    "import pandas as pd\n",
    "import pymorphy3\n",
    "import re\n",
    "from tqdm import tqdm\n",
    "\n",
    "from preprocessing import full_prep, grade10fix\n",
    "\n",
    "from lightgbm import LGBMClassifier\n",
    "\n",
    "\n",
    "from sklearn.feature_extraction.text import TfidfVectorizer, CountVectorizer\n",
    "from sklearn.model_selection import train_test_split, GridSearchCV, RandomizedSearchCV, StratifiedKFold\n",
    "from sklearn.metrics import confusion_matrix,classification_report, accuracy_score, roc_curve, auc, RocCurveDisplay\n",
    "from sklearn.preprocessing import OrdinalEncoder\n",
    "from sklearn.metrics import f1_score\n",
    "\n",
    "from imblearn.under_sampling import RandomUnderSampler\n",
    "from imblearn.over_sampling import RandomOverSampler\n",
    "\n",
    "\n",
    "\n",
    "from xgboost import XGBClassifier\n",
    "\n",
    "multiprocessing.cpu_count()"
   ]
  },
  {
   "cell_type": "code",
   "execution_count": 2,
   "id": "f4065074-a064-41cf-9987-f1bf86d7efc9",
   "metadata": {},
   "outputs": [
    {
     "data": {
      "text/html": [
       "<div>\n",
       "<style scoped>\n",
       "    .dataframe tbody tr th:only-of-type {\n",
       "        vertical-align: middle;\n",
       "    }\n",
       "\n",
       "    .dataframe tbody tr th {\n",
       "        vertical-align: top;\n",
       "    }\n",
       "\n",
       "    .dataframe thead th {\n",
       "        text-align: right;\n",
       "    }\n",
       "</style>\n",
       "<table border=\"1\" class=\"dataframe\">\n",
       "  <thead>\n",
       "    <tr style=\"text-align: right;\">\n",
       "      <th></th>\n",
       "      <th>part</th>\n",
       "      <th>movie_name</th>\n",
       "      <th>review_id</th>\n",
       "      <th>author</th>\n",
       "      <th>date</th>\n",
       "      <th>title</th>\n",
       "      <th>grade3</th>\n",
       "      <th>grade10</th>\n",
       "      <th>content</th>\n",
       "    </tr>\n",
       "  </thead>\n",
       "  <tbody>\n",
       "    <tr>\n",
       "      <th>0</th>\n",
       "      <td>top250</td>\n",
       "      <td>Блеф (1976)</td>\n",
       "      <td>17144</td>\n",
       "      <td>Come Back</td>\n",
       "      <td>2011-09-24</td>\n",
       "      <td>Плакали наши денежки ©</td>\n",
       "      <td>Good</td>\n",
       "      <td>10.0</td>\n",
       "      <td>\\n\"Блеф» — одна из моих самых любимых комедий....</td>\n",
       "    </tr>\n",
       "    <tr>\n",
       "      <th>1</th>\n",
       "      <td>top250</td>\n",
       "      <td>Блеф (1976)</td>\n",
       "      <td>17139</td>\n",
       "      <td>Stasiki</td>\n",
       "      <td>2008-03-04</td>\n",
       "      <td>None</td>\n",
       "      <td>Good</td>\n",
       "      <td>0.0</td>\n",
       "      <td>\\nАдриано Челентано продолжает радовать нас св...</td>\n",
       "    </tr>\n",
       "    <tr>\n",
       "      <th>2</th>\n",
       "      <td>top250</td>\n",
       "      <td>Блеф (1976)</td>\n",
       "      <td>17137</td>\n",
       "      <td>Flashman</td>\n",
       "      <td>2007-03-04</td>\n",
       "      <td>None</td>\n",
       "      <td>Good</td>\n",
       "      <td>10.0</td>\n",
       "      <td>\\nНесомненно, это один из великих фильмов 80-х...</td>\n",
       "    </tr>\n",
       "    <tr>\n",
       "      <th>3</th>\n",
       "      <td>top250</td>\n",
       "      <td>Блеф (1976)</td>\n",
       "      <td>17135</td>\n",
       "      <td>Sergio Tishin</td>\n",
       "      <td>2009-08-17</td>\n",
       "      <td>\" Черное, красное, ерунда это все. Выигрывает ...</td>\n",
       "      <td>Good</td>\n",
       "      <td>0.0</td>\n",
       "      <td>\\nЭта фраза на мой взгляд отражает сюжет несом...</td>\n",
       "    </tr>\n",
       "    <tr>\n",
       "      <th>4</th>\n",
       "      <td>top250</td>\n",
       "      <td>Блеф (1976)</td>\n",
       "      <td>17151</td>\n",
       "      <td>Фюльгья</td>\n",
       "      <td>2009-08-20</td>\n",
       "      <td>«Он хотел убежать? Да! Блеф, блеф…»</td>\n",
       "      <td>Neutral</td>\n",
       "      <td>7.0</td>\n",
       "      <td>\\n- как пела Земфира, скорее всего, по соверше...</td>\n",
       "    </tr>\n",
       "  </tbody>\n",
       "</table>\n",
       "</div>"
      ],
      "text/plain": [
       "     part   movie_name  review_id         author       date  \\\n",
       "0  top250  Блеф (1976)      17144      Come Back 2011-09-24   \n",
       "1  top250  Блеф (1976)      17139        Stasiki 2008-03-04   \n",
       "2  top250  Блеф (1976)      17137       Flashman 2007-03-04   \n",
       "3  top250  Блеф (1976)      17135  Sergio Tishin 2009-08-17   \n",
       "4  top250  Блеф (1976)      17151        Фюльгья 2009-08-20   \n",
       "\n",
       "                                               title   grade3  grade10  \\\n",
       "0                             Плакали наши денежки ©     Good     10.0   \n",
       "1                                               None     Good      0.0   \n",
       "2                                               None     Good     10.0   \n",
       "3  \" Черное, красное, ерунда это все. Выигрывает ...     Good      0.0   \n",
       "4                «Он хотел убежать? Да! Блеф, блеф…»  Neutral      7.0   \n",
       "\n",
       "                                             content  \n",
       "0  \\n\"Блеф» — одна из моих самых любимых комедий....  \n",
       "1  \\nАдриано Челентано продолжает радовать нас св...  \n",
       "2  \\nНесомненно, это один из великих фильмов 80-х...  \n",
       "3  \\nЭта фраза на мой взгляд отражает сюжет несом...  \n",
       "4  \\n- как пела Земфира, скорее всего, по соверше...  "
      ]
     },
     "execution_count": 2,
     "metadata": {},
     "output_type": "execute_result"
    }
   ],
   "source": [
    "df = pd.read_json(\"kinopoisk.jsonl\", lines=True, convert_dates = ['date'])\n",
    "\n",
    "df = df[df['movie_name']!=10]\n",
    "df = grade10_fix(df)\n",
    "\n",
    "df.head()"
   ]
  },
  {
   "cell_type": "markdown",
   "id": "214e03e7-1243-4991-be81-3c44c63ec86d",
   "metadata": {},
   "source": [
    "## Обработка текста"
   ]
  },
  {
   "cell_type": "code",
   "execution_count": 7,
   "id": "322621e0-2153-4643-8e75-b45ab6345595",
   "metadata": {},
   "outputs": [
    {
     "name": "stdout",
     "output_type": "stream",
     "text": [
      "Удаление особых символов\n"
     ]
    },
    {
     "name": "stderr",
     "output_type": "stream",
     "text": [
      "100%|█████████████████████████████████████████████████████████████████████████| 36591/36591 [00:00<00:00, 42013.46it/s]\n",
      "100%|█████████████████████████████████████████████████████████████████████████| 36591/36591 [00:00<00:00, 39515.25it/s]\n"
     ]
    },
    {
     "name": "stdout",
     "output_type": "stream",
     "text": [
      "Токенизация\n"
     ]
    },
    {
     "name": "stderr",
     "output_type": "stream",
     "text": [
      "100%|█████████████████████████████████████████████████████████████████████████| 36591/36591 [00:03<00:00, 10296.50it/s]\n"
     ]
    },
    {
     "name": "stdout",
     "output_type": "stream",
     "text": [
      "Удаление стоп-слов\n"
     ]
    },
    {
     "name": "stderr",
     "output_type": "stream",
     "text": [
      "[nltk_data] Downloading package stopwords to\n",
      "[nltk_data]     C:\\Users\\user\\AppData\\Roaming\\nltk_data...\n",
      "[nltk_data]   Package stopwords is already up-to-date!\n",
      "100%|██████████████████████████████████████████████████████████████████████████| 36591/36591 [00:15<00:00, 2313.34it/s]\n"
     ]
    }
   ],
   "source": [
    "# Создаём копию датасета для TF-IDF\n",
    "\n",
    "df_bow = df[['content', 'grade3', 'grade10']].copy()\n",
    "\n",
    "df_bow.head()\n",
    "\n",
    "\n",
    "# Убираем знаки препинания, проводим лемматизацию, удаляем стоп-слова\n",
    "df_bow = full_prep(df, punctuation = True, lemmatization = True, stop_words = True)"
   ]
  },
  {
   "cell_type": "code",
   "execution_count": 8,
   "id": "13e8a64f-b683-400a-81bc-679a3a638fa4",
   "metadata": {},
   "outputs": [
    {
     "data": {
      "text/html": [
       "<div>\n",
       "<style scoped>\n",
       "    .dataframe tbody tr th:only-of-type {\n",
       "        vertical-align: middle;\n",
       "    }\n",
       "\n",
       "    .dataframe tbody tr th {\n",
       "        vertical-align: top;\n",
       "    }\n",
       "\n",
       "    .dataframe thead th {\n",
       "        text-align: right;\n",
       "    }\n",
       "</style>\n",
       "<table border=\"1\" class=\"dataframe\">\n",
       "  <thead>\n",
       "    <tr style=\"text-align: right;\">\n",
       "      <th></th>\n",
       "      <th>part</th>\n",
       "      <th>movie_name</th>\n",
       "      <th>review_id</th>\n",
       "      <th>author</th>\n",
       "      <th>date</th>\n",
       "      <th>title</th>\n",
       "      <th>grade3</th>\n",
       "      <th>grade10</th>\n",
       "      <th>content</th>\n",
       "    </tr>\n",
       "  </thead>\n",
       "  <tbody>\n",
       "    <tr>\n",
       "      <th>0</th>\n",
       "      <td>top250</td>\n",
       "      <td>Блеф (1976)</td>\n",
       "      <td>17144</td>\n",
       "      <td>Come Back</td>\n",
       "      <td>2011-09-24</td>\n",
       "      <td>Плакали наши денежки ©</td>\n",
       "      <td>Good</td>\n",
       "      <td>10.0</td>\n",
       "      <td>[блеф, одна, моих, самых, любимых, комедий, .,...</td>\n",
       "    </tr>\n",
       "    <tr>\n",
       "      <th>1</th>\n",
       "      <td>top250</td>\n",
       "      <td>Блеф (1976)</td>\n",
       "      <td>17139</td>\n",
       "      <td>Stasiki</td>\n",
       "      <td>2008-03-04</td>\n",
       "      <td>None</td>\n",
       "      <td>Good</td>\n",
       "      <td>0.0</td>\n",
       "      <td>[адриано, челентано, продолжает, радовать, сво...</td>\n",
       "    </tr>\n",
       "    <tr>\n",
       "      <th>2</th>\n",
       "      <td>top250</td>\n",
       "      <td>Блеф (1976)</td>\n",
       "      <td>17137</td>\n",
       "      <td>Flashman</td>\n",
       "      <td>2007-03-04</td>\n",
       "      <td>None</td>\n",
       "      <td>Good</td>\n",
       "      <td>10.0</td>\n",
       "      <td>[несомненно, ,, это, великих, фильмов, 80х, го...</td>\n",
       "    </tr>\n",
       "    <tr>\n",
       "      <th>3</th>\n",
       "      <td>top250</td>\n",
       "      <td>Блеф (1976)</td>\n",
       "      <td>17135</td>\n",
       "      <td>Sergio Tishin</td>\n",
       "      <td>2009-08-17</td>\n",
       "      <td>\" Черное, красное, ерунда это все. Выигрывает ...</td>\n",
       "      <td>Good</td>\n",
       "      <td>0.0</td>\n",
       "      <td>[эта, фраза, взгляд, отражает, сюжет, несомнен...</td>\n",
       "    </tr>\n",
       "    <tr>\n",
       "      <th>4</th>\n",
       "      <td>top250</td>\n",
       "      <td>Блеф (1976)</td>\n",
       "      <td>17151</td>\n",
       "      <td>Фюльгья</td>\n",
       "      <td>2009-08-20</td>\n",
       "      <td>«Он хотел убежать? Да! Блеф, блеф…»</td>\n",
       "      <td>Neutral</td>\n",
       "      <td>7.0</td>\n",
       "      <td>[пела, земфира, ,, скорее, ,, совершенно, друг...</td>\n",
       "    </tr>\n",
       "  </tbody>\n",
       "</table>\n",
       "</div>"
      ],
      "text/plain": [
       "     part   movie_name  review_id         author       date  \\\n",
       "0  top250  Блеф (1976)      17144      Come Back 2011-09-24   \n",
       "1  top250  Блеф (1976)      17139        Stasiki 2008-03-04   \n",
       "2  top250  Блеф (1976)      17137       Flashman 2007-03-04   \n",
       "3  top250  Блеф (1976)      17135  Sergio Tishin 2009-08-17   \n",
       "4  top250  Блеф (1976)      17151        Фюльгья 2009-08-20   \n",
       "\n",
       "                                               title   grade3  grade10  \\\n",
       "0                             Плакали наши денежки ©     Good     10.0   \n",
       "1                                               None     Good      0.0   \n",
       "2                                               None     Good     10.0   \n",
       "3  \" Черное, красное, ерунда это все. Выигрывает ...     Good      0.0   \n",
       "4                «Он хотел убежать? Да! Блеф, блеф…»  Neutral      7.0   \n",
       "\n",
       "                                             content  \n",
       "0  [блеф, одна, моих, самых, любимых, комедий, .,...  \n",
       "1  [адриано, челентано, продолжает, радовать, сво...  \n",
       "2  [несомненно, ,, это, великих, фильмов, 80х, го...  \n",
       "3  [эта, фраза, взгляд, отражает, сюжет, несомнен...  \n",
       "4  [пела, земфира, ,, скорее, ,, совершенно, друг...  "
      ]
     },
     "execution_count": 8,
     "metadata": {},
     "output_type": "execute_result"
    }
   ],
   "source": [
    "df_bow.head()"
   ]
  },
  {
   "cell_type": "code",
   "execution_count": null,
   "id": "a9290417-789b-4e41-9a3e-414f807f435e",
   "metadata": {},
   "outputs": [],
   "source": [
    "df_bow['grade3'].value_counts()"
   ]
  },
  {
   "cell_type": "code",
   "execution_count": 32,
   "id": "1a379048-197c-4790-b10e-7e6ca5812bb0",
   "metadata": {},
   "outputs": [],
   "source": [
    "#df_bow.to_pickle('lemmed_df.pkl')"
   ]
  },
  {
   "cell_type": "markdown",
   "id": "e73c0d4c-e2aa-4aba-bf56-807ae2e5b210",
   "metadata": {},
   "source": [
    "## TF-IDF векторизация"
   ]
  },
  {
   "cell_type": "code",
   "execution_count": 161,
   "id": "0f11b2fe-7559-47ac-b9d4-f81de4024229",
   "metadata": {},
   "outputs": [
    {
     "data": {
      "text/html": [
       "<div>\n",
       "<style scoped>\n",
       "    .dataframe tbody tr th:only-of-type {\n",
       "        vertical-align: middle;\n",
       "    }\n",
       "\n",
       "    .dataframe tbody tr th {\n",
       "        vertical-align: top;\n",
       "    }\n",
       "\n",
       "    .dataframe thead th {\n",
       "        text-align: right;\n",
       "    }\n",
       "</style>\n",
       "<table border=\"1\" class=\"dataframe\">\n",
       "  <thead>\n",
       "    <tr style=\"text-align: right;\">\n",
       "      <th></th>\n",
       "      <th>content</th>\n",
       "      <th>grade3</th>\n",
       "      <th>grade10</th>\n",
       "      <th>clean_content</th>\n",
       "      <th>movie_name</th>\n",
       "      <th>review_id</th>\n",
       "    </tr>\n",
       "  </thead>\n",
       "  <tbody>\n",
       "    <tr>\n",
       "      <th>0</th>\n",
       "      <td>блеф одна из моих самых любимых комедий этот ф...</td>\n",
       "      <td>Good</td>\n",
       "      <td>10.0</td>\n",
       "      <td>блеф самый любимый комедия фильм наверно смотр...</td>\n",
       "      <td>Блеф (1976)</td>\n",
       "      <td>17144</td>\n",
       "    </tr>\n",
       "    <tr>\n",
       "      <th>1</th>\n",
       "      <td>адриано челентано продолжает радовать нас свои...</td>\n",
       "      <td>Good</td>\n",
       "      <td>0.0</td>\n",
       "      <td>адриано челентано продолжать радовать свой раб...</td>\n",
       "      <td>Блеф (1976)</td>\n",
       "      <td>17139</td>\n",
       "    </tr>\n",
       "    <tr>\n",
       "      <th>2</th>\n",
       "      <td>несомненно это один из великих фильмов 80х год...</td>\n",
       "      <td>Good</td>\n",
       "      <td>10.0</td>\n",
       "      <td>несомненно это великий фильм 80х год исключите...</td>\n",
       "      <td>Блеф (1976)</td>\n",
       "      <td>17137</td>\n",
       "    </tr>\n",
       "    <tr>\n",
       "      <th>3</th>\n",
       "      <td>эта фраза на мой взгляд отражает сюжет несомне...</td>\n",
       "      <td>Good</td>\n",
       "      <td>0.0</td>\n",
       "      <td>фраза взгляд отражать сюжет несомненно прекрас...</td>\n",
       "      <td>Блеф (1976)</td>\n",
       "      <td>17135</td>\n",
       "    </tr>\n",
       "    <tr>\n",
       "      <th>4</th>\n",
       "      <td>как пела земфира скорее всего по совершенно др...</td>\n",
       "      <td>Neutral</td>\n",
       "      <td>7.0</td>\n",
       "      <td>петь земфира скорее весь совершенно повод ещё ...</td>\n",
       "      <td>Блеф (1976)</td>\n",
       "      <td>17151</td>\n",
       "    </tr>\n",
       "    <tr>\n",
       "      <th>...</th>\n",
       "      <td>...</td>\n",
       "      <td>...</td>\n",
       "      <td>...</td>\n",
       "      <td>...</td>\n",
       "      <td>...</td>\n",
       "      <td>...</td>\n",
       "    </tr>\n",
       "    <tr>\n",
       "      <th>36586</th>\n",
       "      <td>ну с чего бы начать давненько я не писала отри...</td>\n",
       "      <td>Bad</td>\n",
       "      <td>2.0</td>\n",
       "      <td>начать давненько писать отрицательный рецензия...</td>\n",
       "      <td>Цветок дьявола (2010)</td>\n",
       "      <td>25123</td>\n",
       "    </tr>\n",
       "    <tr>\n",
       "      <th>36587</th>\n",
       "      <td>можно начать с того что уже постер к фильму цв...</td>\n",
       "      <td>Bad</td>\n",
       "      <td>1.0</td>\n",
       "      <td>начать постер фильм цветок дьявол вызывать при...</td>\n",
       "      <td>Цветок дьявола (2010)</td>\n",
       "      <td>25192</td>\n",
       "    </tr>\n",
       "    <tr>\n",
       "      <th>36588</th>\n",
       "      <td>фильм производства россии поэтому многие ожида...</td>\n",
       "      <td>Good</td>\n",
       "      <td>7.0</td>\n",
       "      <td>фильм производство россия поэтому многие ожида...</td>\n",
       "      <td>Цветок дьявола (2010)</td>\n",
       "      <td>25080</td>\n",
       "    </tr>\n",
       "    <tr>\n",
       "      <th>36589</th>\n",
       "      <td>16 сентября на большие экраны вышел мистически...</td>\n",
       "      <td>Bad</td>\n",
       "      <td>0.0</td>\n",
       "      <td>16 сентябрь больший экран выйти мистический тр...</td>\n",
       "      <td>Цветок дьявола (2010)</td>\n",
       "      <td>25088</td>\n",
       "    </tr>\n",
       "    <tr>\n",
       "      <th>36590</th>\n",
       "      <td>эх как я пыталась настроить себя положительно ...</td>\n",
       "      <td>Bad</td>\n",
       "      <td>1.0</td>\n",
       "      <td>эх пытаться настроить положительно фильм прост...</td>\n",
       "      <td>Цветок дьявола (2010)</td>\n",
       "      <td>25149</td>\n",
       "    </tr>\n",
       "  </tbody>\n",
       "</table>\n",
       "<p>36591 rows × 6 columns</p>\n",
       "</div>"
      ],
      "text/plain": [
       "                                                 content   grade3  grade10  \\\n",
       "0      блеф одна из моих самых любимых комедий этот ф...     Good     10.0   \n",
       "1      адриано челентано продолжает радовать нас свои...     Good      0.0   \n",
       "2      несомненно это один из великих фильмов 80х год...     Good     10.0   \n",
       "3      эта фраза на мой взгляд отражает сюжет несомне...     Good      0.0   \n",
       "4      как пела земфира скорее всего по совершенно др...  Neutral      7.0   \n",
       "...                                                  ...      ...      ...   \n",
       "36586  ну с чего бы начать давненько я не писала отри...      Bad      2.0   \n",
       "36587  можно начать с того что уже постер к фильму цв...      Bad      1.0   \n",
       "36588  фильм производства россии поэтому многие ожида...     Good      7.0   \n",
       "36589  16 сентября на большие экраны вышел мистически...      Bad      0.0   \n",
       "36590  эх как я пыталась настроить себя положительно ...      Bad      1.0   \n",
       "\n",
       "                                           clean_content  \\\n",
       "0      блеф самый любимый комедия фильм наверно смотр...   \n",
       "1      адриано челентано продолжать радовать свой раб...   \n",
       "2      несомненно это великий фильм 80х год исключите...   \n",
       "3      фраза взгляд отражать сюжет несомненно прекрас...   \n",
       "4      петь земфира скорее весь совершенно повод ещё ...   \n",
       "...                                                  ...   \n",
       "36586  начать давненько писать отрицательный рецензия...   \n",
       "36587  начать постер фильм цветок дьявол вызывать при...   \n",
       "36588  фильм производство россия поэтому многие ожида...   \n",
       "36589  16 сентябрь больший экран выйти мистический тр...   \n",
       "36590  эх пытаться настроить положительно фильм прост...   \n",
       "\n",
       "                  movie_name  review_id  \n",
       "0                Блеф (1976)      17144  \n",
       "1                Блеф (1976)      17139  \n",
       "2                Блеф (1976)      17137  \n",
       "3                Блеф (1976)      17135  \n",
       "4                Блеф (1976)      17151  \n",
       "...                      ...        ...  \n",
       "36586  Цветок дьявола (2010)      25123  \n",
       "36587  Цветок дьявола (2010)      25192  \n",
       "36588  Цветок дьявола (2010)      25080  \n",
       "36589  Цветок дьявола (2010)      25088  \n",
       "36590  Цветок дьявола (2010)      25149  \n",
       "\n",
       "[36591 rows x 6 columns]"
      ]
     },
     "execution_count": 161,
     "metadata": {},
     "output_type": "execute_result"
    }
   ],
   "source": [
    "# Для экономии времени загрузим готовый датасет с проведённым препроцессингом\n",
    "\n",
    "df_bow = pd.read_csv('data/lemmed_df.csv').drop(columns = ['Unnamed: 0'])\n",
    "df_bow"
   ]
  },
  {
   "cell_type": "code",
   "execution_count": 36,
   "id": "ac387113-3e21-4408-9d9d-39672e7f77b8",
   "metadata": {},
   "outputs": [],
   "source": [
    "# Если данные загружены из pickle соединим слова в списках в одну строку (только на локальной)\n",
    "#df_bow['clean_content'] = df_bow['clean_content'].str.join(' ')"
   ]
  },
  {
   "cell_type": "code",
   "execution_count": 71,
   "id": "8b731351-3f01-40ea-9f24-c545d44bca5d",
   "metadata": {},
   "outputs": [
    {
     "data": {
      "text/plain": [
       "grade3\n",
       "Good       27264\n",
       "Bad         4751\n",
       "Neutral     4576\n",
       "Name: count, dtype: int64"
      ]
     },
     "execution_count": 71,
     "metadata": {},
     "output_type": "execute_result"
    }
   ],
   "source": [
    "df_bow['grade3'].value_counts()"
   ]
  },
  {
   "cell_type": "code",
   "execution_count": 39,
   "id": "c70df613-81ab-49f7-a9b3-db3e6044d24e",
   "metadata": {},
   "outputs": [
    {
     "data": {
      "text/html": [
       "<style>#sk-container-id-1 {\n",
       "  /* Definition of color scheme common for light and dark mode */\n",
       "  --sklearn-color-text: black;\n",
       "  --sklearn-color-line: gray;\n",
       "  /* Definition of color scheme for unfitted estimators */\n",
       "  --sklearn-color-unfitted-level-0: #fff5e6;\n",
       "  --sklearn-color-unfitted-level-1: #f6e4d2;\n",
       "  --sklearn-color-unfitted-level-2: #ffe0b3;\n",
       "  --sklearn-color-unfitted-level-3: chocolate;\n",
       "  /* Definition of color scheme for fitted estimators */\n",
       "  --sklearn-color-fitted-level-0: #f0f8ff;\n",
       "  --sklearn-color-fitted-level-1: #d4ebff;\n",
       "  --sklearn-color-fitted-level-2: #b3dbfd;\n",
       "  --sklearn-color-fitted-level-3: cornflowerblue;\n",
       "\n",
       "  /* Specific color for light theme */\n",
       "  --sklearn-color-text-on-default-background: var(--sg-text-color, var(--theme-code-foreground, var(--jp-content-font-color1, black)));\n",
       "  --sklearn-color-background: var(--sg-background-color, var(--theme-background, var(--jp-layout-color0, white)));\n",
       "  --sklearn-color-border-box: var(--sg-text-color, var(--theme-code-foreground, var(--jp-content-font-color1, black)));\n",
       "  --sklearn-color-icon: #696969;\n",
       "\n",
       "  @media (prefers-color-scheme: dark) {\n",
       "    /* Redefinition of color scheme for dark theme */\n",
       "    --sklearn-color-text-on-default-background: var(--sg-text-color, var(--theme-code-foreground, var(--jp-content-font-color1, white)));\n",
       "    --sklearn-color-background: var(--sg-background-color, var(--theme-background, var(--jp-layout-color0, #111)));\n",
       "    --sklearn-color-border-box: var(--sg-text-color, var(--theme-code-foreground, var(--jp-content-font-color1, white)));\n",
       "    --sklearn-color-icon: #878787;\n",
       "  }\n",
       "}\n",
       "\n",
       "#sk-container-id-1 {\n",
       "  color: var(--sklearn-color-text);\n",
       "}\n",
       "\n",
       "#sk-container-id-1 pre {\n",
       "  padding: 0;\n",
       "}\n",
       "\n",
       "#sk-container-id-1 input.sk-hidden--visually {\n",
       "  border: 0;\n",
       "  clip: rect(1px 1px 1px 1px);\n",
       "  clip: rect(1px, 1px, 1px, 1px);\n",
       "  height: 1px;\n",
       "  margin: -1px;\n",
       "  overflow: hidden;\n",
       "  padding: 0;\n",
       "  position: absolute;\n",
       "  width: 1px;\n",
       "}\n",
       "\n",
       "#sk-container-id-1 div.sk-dashed-wrapped {\n",
       "  border: 1px dashed var(--sklearn-color-line);\n",
       "  margin: 0 0.4em 0.5em 0.4em;\n",
       "  box-sizing: border-box;\n",
       "  padding-bottom: 0.4em;\n",
       "  background-color: var(--sklearn-color-background);\n",
       "}\n",
       "\n",
       "#sk-container-id-1 div.sk-container {\n",
       "  /* jupyter's `normalize.less` sets `[hidden] { display: none; }`\n",
       "     but bootstrap.min.css set `[hidden] { display: none !important; }`\n",
       "     so we also need the `!important` here to be able to override the\n",
       "     default hidden behavior on the sphinx rendered scikit-learn.org.\n",
       "     See: https://github.com/scikit-learn/scikit-learn/issues/21755 */\n",
       "  display: inline-block !important;\n",
       "  position: relative;\n",
       "}\n",
       "\n",
       "#sk-container-id-1 div.sk-text-repr-fallback {\n",
       "  display: none;\n",
       "}\n",
       "\n",
       "div.sk-parallel-item,\n",
       "div.sk-serial,\n",
       "div.sk-item {\n",
       "  /* draw centered vertical line to link estimators */\n",
       "  background-image: linear-gradient(var(--sklearn-color-text-on-default-background), var(--sklearn-color-text-on-default-background));\n",
       "  background-size: 2px 100%;\n",
       "  background-repeat: no-repeat;\n",
       "  background-position: center center;\n",
       "}\n",
       "\n",
       "/* Parallel-specific style estimator block */\n",
       "\n",
       "#sk-container-id-1 div.sk-parallel-item::after {\n",
       "  content: \"\";\n",
       "  width: 100%;\n",
       "  border-bottom: 2px solid var(--sklearn-color-text-on-default-background);\n",
       "  flex-grow: 1;\n",
       "}\n",
       "\n",
       "#sk-container-id-1 div.sk-parallel {\n",
       "  display: flex;\n",
       "  align-items: stretch;\n",
       "  justify-content: center;\n",
       "  background-color: var(--sklearn-color-background);\n",
       "  position: relative;\n",
       "}\n",
       "\n",
       "#sk-container-id-1 div.sk-parallel-item {\n",
       "  display: flex;\n",
       "  flex-direction: column;\n",
       "}\n",
       "\n",
       "#sk-container-id-1 div.sk-parallel-item:first-child::after {\n",
       "  align-self: flex-end;\n",
       "  width: 50%;\n",
       "}\n",
       "\n",
       "#sk-container-id-1 div.sk-parallel-item:last-child::after {\n",
       "  align-self: flex-start;\n",
       "  width: 50%;\n",
       "}\n",
       "\n",
       "#sk-container-id-1 div.sk-parallel-item:only-child::after {\n",
       "  width: 0;\n",
       "}\n",
       "\n",
       "/* Serial-specific style estimator block */\n",
       "\n",
       "#sk-container-id-1 div.sk-serial {\n",
       "  display: flex;\n",
       "  flex-direction: column;\n",
       "  align-items: center;\n",
       "  background-color: var(--sklearn-color-background);\n",
       "  padding-right: 1em;\n",
       "  padding-left: 1em;\n",
       "}\n",
       "\n",
       "\n",
       "/* Toggleable style: style used for estimator/Pipeline/ColumnTransformer box that is\n",
       "clickable and can be expanded/collapsed.\n",
       "- Pipeline and ColumnTransformer use this feature and define the default style\n",
       "- Estimators will overwrite some part of the style using the `sk-estimator` class\n",
       "*/\n",
       "\n",
       "/* Pipeline and ColumnTransformer style (default) */\n",
       "\n",
       "#sk-container-id-1 div.sk-toggleable {\n",
       "  /* Default theme specific background. It is overwritten whether we have a\n",
       "  specific estimator or a Pipeline/ColumnTransformer */\n",
       "  background-color: var(--sklearn-color-background);\n",
       "}\n",
       "\n",
       "/* Toggleable label */\n",
       "#sk-container-id-1 label.sk-toggleable__label {\n",
       "  cursor: pointer;\n",
       "  display: block;\n",
       "  width: 100%;\n",
       "  margin-bottom: 0;\n",
       "  padding: 0.5em;\n",
       "  box-sizing: border-box;\n",
       "  text-align: center;\n",
       "}\n",
       "\n",
       "#sk-container-id-1 label.sk-toggleable__label-arrow:before {\n",
       "  /* Arrow on the left of the label */\n",
       "  content: \"▸\";\n",
       "  float: left;\n",
       "  margin-right: 0.25em;\n",
       "  color: var(--sklearn-color-icon);\n",
       "}\n",
       "\n",
       "#sk-container-id-1 label.sk-toggleable__label-arrow:hover:before {\n",
       "  color: var(--sklearn-color-text);\n",
       "}\n",
       "\n",
       "/* Toggleable content - dropdown */\n",
       "\n",
       "#sk-container-id-1 div.sk-toggleable__content {\n",
       "  max-height: 0;\n",
       "  max-width: 0;\n",
       "  overflow: hidden;\n",
       "  text-align: left;\n",
       "  /* unfitted */\n",
       "  background-color: var(--sklearn-color-unfitted-level-0);\n",
       "}\n",
       "\n",
       "#sk-container-id-1 div.sk-toggleable__content.fitted {\n",
       "  /* fitted */\n",
       "  background-color: var(--sklearn-color-fitted-level-0);\n",
       "}\n",
       "\n",
       "#sk-container-id-1 div.sk-toggleable__content pre {\n",
       "  margin: 0.2em;\n",
       "  border-radius: 0.25em;\n",
       "  color: var(--sklearn-color-text);\n",
       "  /* unfitted */\n",
       "  background-color: var(--sklearn-color-unfitted-level-0);\n",
       "}\n",
       "\n",
       "#sk-container-id-1 div.sk-toggleable__content.fitted pre {\n",
       "  /* unfitted */\n",
       "  background-color: var(--sklearn-color-fitted-level-0);\n",
       "}\n",
       "\n",
       "#sk-container-id-1 input.sk-toggleable__control:checked~div.sk-toggleable__content {\n",
       "  /* Expand drop-down */\n",
       "  max-height: 200px;\n",
       "  max-width: 100%;\n",
       "  overflow: auto;\n",
       "}\n",
       "\n",
       "#sk-container-id-1 input.sk-toggleable__control:checked~label.sk-toggleable__label-arrow:before {\n",
       "  content: \"▾\";\n",
       "}\n",
       "\n",
       "/* Pipeline/ColumnTransformer-specific style */\n",
       "\n",
       "#sk-container-id-1 div.sk-label input.sk-toggleable__control:checked~label.sk-toggleable__label {\n",
       "  color: var(--sklearn-color-text);\n",
       "  background-color: var(--sklearn-color-unfitted-level-2);\n",
       "}\n",
       "\n",
       "#sk-container-id-1 div.sk-label.fitted input.sk-toggleable__control:checked~label.sk-toggleable__label {\n",
       "  background-color: var(--sklearn-color-fitted-level-2);\n",
       "}\n",
       "\n",
       "/* Estimator-specific style */\n",
       "\n",
       "/* Colorize estimator box */\n",
       "#sk-container-id-1 div.sk-estimator input.sk-toggleable__control:checked~label.sk-toggleable__label {\n",
       "  /* unfitted */\n",
       "  background-color: var(--sklearn-color-unfitted-level-2);\n",
       "}\n",
       "\n",
       "#sk-container-id-1 div.sk-estimator.fitted input.sk-toggleable__control:checked~label.sk-toggleable__label {\n",
       "  /* fitted */\n",
       "  background-color: var(--sklearn-color-fitted-level-2);\n",
       "}\n",
       "\n",
       "#sk-container-id-1 div.sk-label label.sk-toggleable__label,\n",
       "#sk-container-id-1 div.sk-label label {\n",
       "  /* The background is the default theme color */\n",
       "  color: var(--sklearn-color-text-on-default-background);\n",
       "}\n",
       "\n",
       "/* On hover, darken the color of the background */\n",
       "#sk-container-id-1 div.sk-label:hover label.sk-toggleable__label {\n",
       "  color: var(--sklearn-color-text);\n",
       "  background-color: var(--sklearn-color-unfitted-level-2);\n",
       "}\n",
       "\n",
       "/* Label box, darken color on hover, fitted */\n",
       "#sk-container-id-1 div.sk-label.fitted:hover label.sk-toggleable__label.fitted {\n",
       "  color: var(--sklearn-color-text);\n",
       "  background-color: var(--sklearn-color-fitted-level-2);\n",
       "}\n",
       "\n",
       "/* Estimator label */\n",
       "\n",
       "#sk-container-id-1 div.sk-label label {\n",
       "  font-family: monospace;\n",
       "  font-weight: bold;\n",
       "  display: inline-block;\n",
       "  line-height: 1.2em;\n",
       "}\n",
       "\n",
       "#sk-container-id-1 div.sk-label-container {\n",
       "  text-align: center;\n",
       "}\n",
       "\n",
       "/* Estimator-specific */\n",
       "#sk-container-id-1 div.sk-estimator {\n",
       "  font-family: monospace;\n",
       "  border: 1px dotted var(--sklearn-color-border-box);\n",
       "  border-radius: 0.25em;\n",
       "  box-sizing: border-box;\n",
       "  margin-bottom: 0.5em;\n",
       "  /* unfitted */\n",
       "  background-color: var(--sklearn-color-unfitted-level-0);\n",
       "}\n",
       "\n",
       "#sk-container-id-1 div.sk-estimator.fitted {\n",
       "  /* fitted */\n",
       "  background-color: var(--sklearn-color-fitted-level-0);\n",
       "}\n",
       "\n",
       "/* on hover */\n",
       "#sk-container-id-1 div.sk-estimator:hover {\n",
       "  /* unfitted */\n",
       "  background-color: var(--sklearn-color-unfitted-level-2);\n",
       "}\n",
       "\n",
       "#sk-container-id-1 div.sk-estimator.fitted:hover {\n",
       "  /* fitted */\n",
       "  background-color: var(--sklearn-color-fitted-level-2);\n",
       "}\n",
       "\n",
       "/* Specification for estimator info (e.g. \"i\" and \"?\") */\n",
       "\n",
       "/* Common style for \"i\" and \"?\" */\n",
       "\n",
       ".sk-estimator-doc-link,\n",
       "a:link.sk-estimator-doc-link,\n",
       "a:visited.sk-estimator-doc-link {\n",
       "  float: right;\n",
       "  font-size: smaller;\n",
       "  line-height: 1em;\n",
       "  font-family: monospace;\n",
       "  background-color: var(--sklearn-color-background);\n",
       "  border-radius: 1em;\n",
       "  height: 1em;\n",
       "  width: 1em;\n",
       "  text-decoration: none !important;\n",
       "  margin-left: 1ex;\n",
       "  /* unfitted */\n",
       "  border: var(--sklearn-color-unfitted-level-1) 1pt solid;\n",
       "  color: var(--sklearn-color-unfitted-level-1);\n",
       "}\n",
       "\n",
       ".sk-estimator-doc-link.fitted,\n",
       "a:link.sk-estimator-doc-link.fitted,\n",
       "a:visited.sk-estimator-doc-link.fitted {\n",
       "  /* fitted */\n",
       "  border: var(--sklearn-color-fitted-level-1) 1pt solid;\n",
       "  color: var(--sklearn-color-fitted-level-1);\n",
       "}\n",
       "\n",
       "/* On hover */\n",
       "div.sk-estimator:hover .sk-estimator-doc-link:hover,\n",
       ".sk-estimator-doc-link:hover,\n",
       "div.sk-label-container:hover .sk-estimator-doc-link:hover,\n",
       ".sk-estimator-doc-link:hover {\n",
       "  /* unfitted */\n",
       "  background-color: var(--sklearn-color-unfitted-level-3);\n",
       "  color: var(--sklearn-color-background);\n",
       "  text-decoration: none;\n",
       "}\n",
       "\n",
       "div.sk-estimator.fitted:hover .sk-estimator-doc-link.fitted:hover,\n",
       ".sk-estimator-doc-link.fitted:hover,\n",
       "div.sk-label-container:hover .sk-estimator-doc-link.fitted:hover,\n",
       ".sk-estimator-doc-link.fitted:hover {\n",
       "  /* fitted */\n",
       "  background-color: var(--sklearn-color-fitted-level-3);\n",
       "  color: var(--sklearn-color-background);\n",
       "  text-decoration: none;\n",
       "}\n",
       "\n",
       "/* Span, style for the box shown on hovering the info icon */\n",
       ".sk-estimator-doc-link span {\n",
       "  display: none;\n",
       "  z-index: 9999;\n",
       "  position: relative;\n",
       "  font-weight: normal;\n",
       "  right: .2ex;\n",
       "  padding: .5ex;\n",
       "  margin: .5ex;\n",
       "  width: min-content;\n",
       "  min-width: 20ex;\n",
       "  max-width: 50ex;\n",
       "  color: var(--sklearn-color-text);\n",
       "  box-shadow: 2pt 2pt 4pt #999;\n",
       "  /* unfitted */\n",
       "  background: var(--sklearn-color-unfitted-level-0);\n",
       "  border: .5pt solid var(--sklearn-color-unfitted-level-3);\n",
       "}\n",
       "\n",
       ".sk-estimator-doc-link.fitted span {\n",
       "  /* fitted */\n",
       "  background: var(--sklearn-color-fitted-level-0);\n",
       "  border: var(--sklearn-color-fitted-level-3);\n",
       "}\n",
       "\n",
       ".sk-estimator-doc-link:hover span {\n",
       "  display: block;\n",
       "}\n",
       "\n",
       "/* \"?\"-specific style due to the `<a>` HTML tag */\n",
       "\n",
       "#sk-container-id-1 a.estimator_doc_link {\n",
       "  float: right;\n",
       "  font-size: 1rem;\n",
       "  line-height: 1em;\n",
       "  font-family: monospace;\n",
       "  background-color: var(--sklearn-color-background);\n",
       "  border-radius: 1rem;\n",
       "  height: 1rem;\n",
       "  width: 1rem;\n",
       "  text-decoration: none;\n",
       "  /* unfitted */\n",
       "  color: var(--sklearn-color-unfitted-level-1);\n",
       "  border: var(--sklearn-color-unfitted-level-1) 1pt solid;\n",
       "}\n",
       "\n",
       "#sk-container-id-1 a.estimator_doc_link.fitted {\n",
       "  /* fitted */\n",
       "  border: var(--sklearn-color-fitted-level-1) 1pt solid;\n",
       "  color: var(--sklearn-color-fitted-level-1);\n",
       "}\n",
       "\n",
       "/* On hover */\n",
       "#sk-container-id-1 a.estimator_doc_link:hover {\n",
       "  /* unfitted */\n",
       "  background-color: var(--sklearn-color-unfitted-level-3);\n",
       "  color: var(--sklearn-color-background);\n",
       "  text-decoration: none;\n",
       "}\n",
       "\n",
       "#sk-container-id-1 a.estimator_doc_link.fitted:hover {\n",
       "  /* fitted */\n",
       "  background-color: var(--sklearn-color-fitted-level-3);\n",
       "}\n",
       "</style><div id=\"sk-container-id-1\" class=\"sk-top-container\"><div class=\"sk-text-repr-fallback\"><pre>CountVectorizer()</pre><b>In a Jupyter environment, please rerun this cell to show the HTML representation or trust the notebook. <br />On GitHub, the HTML representation is unable to render, please try loading this page with nbviewer.org.</b></div><div class=\"sk-container\" hidden><div class=\"sk-item\"><div class=\"sk-estimator fitted sk-toggleable\"><input class=\"sk-toggleable__control sk-hidden--visually\" id=\"sk-estimator-id-1\" type=\"checkbox\" checked><label for=\"sk-estimator-id-1\" class=\"sk-toggleable__label fitted sk-toggleable__label-arrow fitted\">&nbsp;&nbsp;CountVectorizer<a class=\"sk-estimator-doc-link fitted\" rel=\"noreferrer\" target=\"_blank\" href=\"https://scikit-learn.org/1.4/modules/generated/sklearn.feature_extraction.text.CountVectorizer.html\">?<span>Documentation for CountVectorizer</span></a><span class=\"sk-estimator-doc-link fitted\">i<span>Fitted</span></span></label><div class=\"sk-toggleable__content fitted\"><pre>CountVectorizer()</pre></div> </div></div></div></div>"
      ],
      "text/plain": [
       "CountVectorizer()"
      ]
     },
     "execution_count": 39,
     "metadata": {},
     "output_type": "execute_result"
    }
   ],
   "source": [
    "count_vec = CountVectorizer()\n",
    "\n",
    "count_vec.fit(df_bow['clean_content'])"
   ]
  },
  {
   "cell_type": "code",
   "execution_count": null,
   "id": "7e05d7a7-9b3c-414e-8e57-d18b3693f03a",
   "metadata": {},
   "outputs": [],
   "source": [
    "matrix = count_vec.fit_transform(df_bow['clean_content'].values)\n",
    "freqs = zip(count_vec.get_feature_names_out(), matrix.sum(axis=0))    \n",
    "# sort from largest to smallest\n",
    "A = np.squeeze(np.asarray(matrix.sum(axis=0)))\n",
    "freqs = zip(count_vec.get_feature_names_out(), A)    \n",
    "res = sorted(freqs, key=lambda x: -x[1])\n",
    "res[:10]"
   ]
  },
  {
   "cell_type": "code",
   "execution_count": 11,
   "id": "6dfa2b32-c0d4-4344-ae21-c4017740cf73",
   "metadata": {},
   "outputs": [],
   "source": [
    "def train_model(X_train,\n",
    "                y_train,\n",
    "                classificator,\n",
    "                balancing = False,\n",
    "                balancing_type = 'undersampling',\n",
    "                use_grid_search = False,\n",
    "                param_grid = None,\n",
    "                cv_folds = 5,\n",
    "                tfidf_max_features = 1500,\n",
    "                tfidf_n_gram_range = (1, 1), **model_params):\n",
    "    '''\n",
    "    Функция обучения модели\n",
    "    X_train - фичи обучающей выборки\n",
    "    y_train - метки обучающей выборки\n",
    "    classificator - выбранная модель\n",
    "    balancing - делать балансировку или нет\n",
    "    balancing_type - выбор типа балансировки undersampling/oversampling \n",
    "    use_grid_search - использовать поиск по сетке\n",
    "    cv_folds - количество разбиений для StratifiedKfold\n",
    "    tfidf_max_features - ограничение по TF-IDF\n",
    "    tfidf_n_gram_range - ограничение по формату ngram\n",
    "    **model_params - параметры для выбранной модели\n",
    "\n",
    "    return: обученная модель, TF-IDF для выбранной обучающей выборки\n",
    "    '''\n",
    "\n",
    "    tfidf = TfidfVectorizer(max_features= tfidf_max_features, \n",
    "                            ngram_range=tfidf_n_gram_range)\n",
    "    \n",
    "    X_train = tfidf.fit_transform(X_train)\n",
    "    if balancing:\n",
    "        if balancing == 'undersampling':\n",
    "            sampler = RandomUnderSampler() \n",
    "        else:\n",
    "            sampler = RandomOverSampler()\n",
    "       \n",
    "        X_train, y_train = sampler.fit_resample(X_train, y_train)\n",
    "       \n",
    "    if use_grid_search:\n",
    "        model = classificator()\n",
    "        cv = StratifiedKFold(n_splits=5)\n",
    "        grid = GridSearchCV(model, param_grid = param_grid, scoring = 'f1_macro', cv = cv)\n",
    "        grid.fit(X_train, y_train)\n",
    "        print(\"Лучшие параметры:\", grid.best_params_)\n",
    "        return grid.best_estimator_, tfidf\n",
    "    \n",
    "    model = classificator(**model_params)\n",
    "  \n",
    "    model.fit(X_train, y_train)\n",
    "    return model, tfidf\n",
    "\n",
    "\n",
    "def classification_metrics(y_pred, y_test, proba):\n",
    "    '''\n",
    "    Функция подсчёта метрик классификации, матрицы смежности и ROC-кривой\n",
    "    \n",
    "    y_pred - предсказанные значения\n",
    "    y_test - целевые тестовой выборки\n",
    "    proba - (надо было сделать необязательным) логиты для построения roc-curve\n",
    "    \n",
    "\n",
    "    '''\n",
    "    # Метрики классификации\n",
    "    print(classification_report(y_test, y_pred))\n",
    "    \n",
    "    # Матрица смежности\n",
    "    sns.heatmap(confusion_matrix(y_test, y_pred), annot = True, fmt = '.0f')\n",
    "    \n",
    "    # ROC-кривая\n",
    "    if proba.shape[1]==2:\n",
    "        fpr, tpr, thresholds = roc_curve(y_test, proba[:,1])\n",
    "        roc_auc = auc(fpr, tpr)\n",
    "        display = RocCurveDisplay(fpr=fpr, tpr=tpr, roc_auc=roc_auc)\n",
    "        display.plot()\n",
    "            "
   ]
  },
  {
   "cell_type": "markdown",
   "id": "9eea47ae-a45b-4172-8967-1574b673525a",
   "metadata": {},
   "source": [
    "## Бинарная классификация"
   ]
  },
  {
   "cell_type": "code",
   "execution_count": 123,
   "id": "72bc232f-0bdd-4b67-9c45-cfd8a740d3bc",
   "metadata": {},
   "outputs": [],
   "source": [
    "from sklearn.utils.class_weight import compute_class_weight\n",
    "\n",
    "\n",
    "# Удалим нейтральные рецензии\n",
    "X = df_bow[df_bow['grade3']!='Neutral']['clean_content'].values\n",
    "\n",
    "\n",
    "OE = OrdinalEncoder(categories=[['Bad', 'Good']])\n",
    "y = OE.fit_transform(df_bow[df_bow['grade3']!='Neutral']['grade3'].values.reshape(-1, 1))\n",
    "\n",
    "X_train, X_test, y_train, y_test = train_test_split(X, y, random_state=42)\n",
    "weights = compute_class_weight(class_weight = 'balanced', classes = np.unique(y), y = y.reshape(-1))"
   ]
  },
  {
   "cell_type": "code",
   "execution_count": 125,
   "id": "29e08c98-e213-4215-913f-b1fe6b8a20ea",
   "metadata": {},
   "outputs": [
    {
     "name": "stderr",
     "output_type": "stream",
     "text": [
      "C:\\Users\\user\\anaconda3\\Lib\\site-packages\\sklearn\\preprocessing\\_label.py:97: DataConversionWarning: A column-vector y was passed when a 1d array was expected. Please change the shape of y to (n_samples, ), for example using ravel().\n",
      "  y = column_or_1d(y, warn=True)\n",
      "C:\\Users\\user\\anaconda3\\Lib\\site-packages\\sklearn\\preprocessing\\_label.py:132: DataConversionWarning: A column-vector y was passed when a 1d array was expected. Please change the shape of y to (n_samples, ), for example using ravel().\n",
      "  y = column_or_1d(y, dtype=self.classes_.dtype, warn=True)\n"
     ]
    },
    {
     "name": "stdout",
     "output_type": "stream",
     "text": [
      "[LightGBM] [Info] Number of positive: 20433, number of negative: 3578\n",
      "[LightGBM] [Info] Auto-choosing col-wise multi-threading, the overhead of testing was 0.055929 seconds.\n",
      "You can set `force_col_wise=true` to remove the overhead.\n",
      "[LightGBM] [Info] Total Bins 335292\n",
      "[LightGBM] [Info] Number of data points in the train set: 24011, number of used features: 1500\n",
      "[LightGBM] [Info] [binary:BoostFromScore]: pavg=0.498784 -> initscore=-0.004865\n",
      "[LightGBM] [Info] Start training from score -0.004865\n"
     ]
    }
   ],
   "source": [
    "model, tfidf = train_model(X_train, y_train, LGBMClassifier, balancing = False,\n",
    "                    tfidf_max_features = 1500, tfidf_n_gram_range= (1, 1), class_weight = dict(zip([0,1], weights)))\n",
    "\n",
    "X_tfid = tfidf.transform(X_test)"
   ]
  },
  {
   "cell_type": "code",
   "execution_count": 126,
   "id": "0edb92cf-dd37-4389-843f-2fbf41c8d584",
   "metadata": {},
   "outputs": [
    {
     "name": "stdout",
     "output_type": "stream",
     "text": [
      "              precision    recall  f1-score   support\n",
      "\n",
      "         0.0       0.69      0.86      0.77      1173\n",
      "         1.0       0.97      0.93      0.95      6831\n",
      "\n",
      "    accuracy                           0.92      8004\n",
      "   macro avg       0.83      0.89      0.86      8004\n",
      "weighted avg       0.93      0.92      0.93      8004\n",
      "\n"
     ]
    },
    {
     "data": {
      "image/png": "[encoded data removed]",
      "text/plain": [
       "<Figure size 640x480 with 2 Axes>"
      ]
     },
     "metadata": {},
     "output_type": "display_data"
    },
    {
     "data": {
      "image/png": "[encoded data removed]",
      "text/plain": [
       "<Figure size 640x480 with 1 Axes>"
      ]
     },
     "metadata": {},
     "output_type": "display_data"
    }
   ],
   "source": [
    "predictions = model.predict(X_tfid)\n",
    "\n",
    "classification_metrics(predictions, y_test, model.predict_proba(X_tfid))"
   ]
  },
  {
   "cell_type": "code",
   "execution_count": 129,
   "id": "aa0be526-5d77-45dc-a2ac-cd7b44acf29d",
   "metadata": {},
   "outputs": [
    {
     "data": {
      "text/plain": [
       "0.8930093776641091"
      ]
     },
     "execution_count": 129,
     "metadata": {},
     "output_type": "execute_result"
    }
   ],
   "source": [
    "# Сэмплируем тестовую выборку, чтобы получить сбалансированные классы\n",
    "\n",
    "rus = RandomUnderSampler()\n",
    "X_tfid, y_test = rus.fit_resample(X_tfid, y_test)\n",
    "\n",
    "predictions = model.predict(X_tfid)\n",
    "\n",
    "accuracy = accuracy_score(y_test, predictions)\n",
    "accuracy"
   ]
  },
  {
   "cell_type": "code",
   "execution_count": 131,
   "id": "c3b7b41d-5af3-4b20-9d55-07126dffa175",
   "metadata": {},
   "outputs": [
    {
     "name": "stdout",
     "output_type": "stream",
     "text": [
      "Бинарная классифиация с использованием взвешенной функции потерь\n",
      "              precision    recall  f1-score   support\n",
      "\n",
      "         0.0       0.86      0.93      0.89      1084\n",
      "         1.0       0.93      0.87      0.90      1262\n",
      "\n",
      "    accuracy                           0.89      2346\n",
      "   macro avg       0.89      0.90      0.89      2346\n",
      "weighted avg       0.90      0.89      0.89      2346\n",
      "\n",
      "None\n"
     ]
    },
    {
     "data": {
      "image/png": "[encoded data removed]",
      "text/plain": [
       "<Figure size 640x480 with 2 Axes>"
      ]
     },
     "metadata": {},
     "output_type": "display_data"
    },
    {
     "data": {
      "image/png": "[encoded data removed]",
      "text/plain": [
       "<Figure size 640x480 with 1 Axes>"
      ]
     },
     "metadata": {},
     "output_type": "display_data"
    }
   ],
   "source": [
    "#Не знаю почему ROC-кривая сломалась\n",
    "print('Бинарная классифиация с использованием взвешенной функции потерь')\n",
    "print(classification_metrics(y_test, predictions, model.predict_proba(X_tfid)))"
   ]
  },
  {
   "cell_type": "markdown",
   "id": "162a668d-e69e-4915-bc93-ee00681099f3",
   "metadata": {},
   "source": [
    "## Тройная классификация"
   ]
  },
  {
   "cell_type": "code",
   "execution_count": 13,
   "id": "09a4841f-8ba5-4568-83a9-bd85e30623dd",
   "metadata": {},
   "outputs": [],
   "source": [
    "from sklearn.utils.class_weight import compute_class_weight\n",
    "\n",
    "X = df_bow['clean_content'].values\n",
    "\n",
    "OE = OrdinalEncoder(categories=[['Bad', 'Neutral', 'Good']])\n",
    "y = OE.fit_transform(df_bow['grade3'].values.reshape(-1, 1))\n",
    "\n",
    "X_train, X_test, y_train, y_test = train_test_split(X, y, random_state=42)\n",
    "weights = compute_class_weight(class_weight = 'balanced', classes = np.unique(y), y = y.reshape(-1))\n",
    "\n",
    "weights = dict(zip(np.unique(y_test), weights))"
   ]
  },
  {
   "cell_type": "code",
   "execution_count": 15,
   "id": "69ddbef1-dea5-4073-9db4-6edfdd8001f0",
   "metadata": {},
   "outputs": [
    {
     "name": "stdout",
     "output_type": "stream",
     "text": [
      "[LightGBM] [Info] Auto-choosing row-wise multi-threading, the overhead of testing was 0.249357 seconds.\n",
      "You can set `force_row_wise=true` to remove the overhead.\n",
      "And if memory is not enough, you can set `force_col_wise=true`.\n",
      "[LightGBM] [Info] Total Bins 692364\n",
      "[LightGBM] [Info] Number of data points in the train set: 61362, number of used features: 3500\n",
      "[LightGBM] [Info] Start training from score -1.098612\n",
      "[LightGBM] [Info] Start training from score -1.098612\n",
      "[LightGBM] [Info] Start training from score -1.098612\n"
     ]
    }
   ],
   "source": [
    "model, tfidf = train_model(X_train, y_train, LGBMClassifier, balancing = True,\n",
    "                    tfidf_max_features = 3500, tfidf_n_gram_range= (1, 1))\n"
   ]
  },
  {
   "cell_type": "code",
   "execution_count": 16,
   "id": "62ed3924-464c-4233-874c-5b90e747d03c",
   "metadata": {},
   "outputs": [
    {
     "name": "stdout",
     "output_type": "stream",
     "text": [
      "Тройная классификация с андерсэмплингом\n",
      "              precision    recall  f1-score   support\n",
      "\n",
      "         0.0       0.61      0.74      0.67      1191\n",
      "         1.0       0.30      0.45      0.36      1147\n",
      "         2.0       0.93      0.82      0.87      6810\n",
      "\n",
      "    accuracy                           0.76      9148\n",
      "   macro avg       0.61      0.67      0.63      9148\n",
      "weighted avg       0.81      0.76      0.78      9148\n",
      "\n"
     ]
    },
    {
     "data": {
      "image/png": "[encoded data removed]",
      "text/plain": [
       "<Figure size 640x480 with 2 Axes>"
      ]
     },
     "metadata": {},
     "output_type": "display_data"
    }
   ],
   "source": [
    "X_tfid = tfidf.transform(X_test)\n",
    "\n",
    "predictions = model.predict(X_tfid)\n",
    "print('Тройная классификация с андерсэмплингом')\n",
    "\n",
    "classification_metrics(predictions, y_test, model.predict_proba(X_tfid))"
   ]
  },
  {
   "cell_type": "code",
   "execution_count": 29,
   "id": "fb40039d-8bec-4069-9ff2-9ec78a100a16",
   "metadata": {},
   "outputs": [
    {
     "name": "stdout",
     "output_type": "stream",
     "text": [
      "[LightGBM] [Info] Auto-choosing row-wise multi-threading, the overhead of testing was 0.271832 seconds.\n",
      "You can set `force_row_wise=true` to remove the overhead.\n",
      "And if memory is not enough, you can set `force_col_wise=true`.\n",
      "[LightGBM] [Info] Total Bins 692080\n",
      "[LightGBM] [Info] Number of data points in the train set: 61362, number of used features: 3500\n",
      "[LightGBM] [Info] Start training from score -1.098612\n",
      "[LightGBM] [Info] Start training from score -1.098612\n",
      "[LightGBM] [Info] Start training from score -1.098612\n",
      "Тройная классификация с оверсэмплингом на сбалансированной тестовой выборке\n",
      "              precision    recall  f1-score   support\n",
      "\n",
      "         0.0       0.71      0.74      0.72      1147\n",
      "         1.0       0.57      0.45      0.50      1147\n",
      "         2.0       0.69      0.81      0.74      1147\n",
      "\n",
      "    accuracy                           0.66      3441\n",
      "   macro avg       0.66      0.66      0.66      3441\n",
      "weighted avg       0.66      0.66      0.66      3441\n",
      "\n"
     ]
    },
    {
     "data": {
      "image/png": "[encoded data removed]",
      "text/plain": [
       "<Figure size 640x480 with 2 Axes>"
      ]
     },
     "metadata": {},
     "output_type": "display_data"
    }
   ],
   "source": [
    "model, tfidf = train_model(X_train, y_train, LGBMClassifier, balancing = True, balancing_type='oversampling',\n",
    "                    tfidf_max_features = 3500, tfidf_n_gram_range= (1, 1))\n",
    "\n",
    "\n",
    "rus = RandomUnderSampler()\n",
    "\n",
    "X_tfidf = tfidf.transform(X_test)\n",
    "X_rus, y_rus = rus.fit_resample(X_tfidf, y_test)\n",
    "\n",
    "predictions = model.predict(X_rus)\n",
    "\n",
    "\n",
    "print('Тройная классификация с оверсэмплингом на сбалансированной тестовой выборке')\n",
    "classification_metrics(predictions, y_rus, model.predict_proba(X_rus))"
   ]
  },
  {
   "cell_type": "code",
   "execution_count": 25,
   "id": "d26e2154-3c29-49f0-b6ac-a9edfa1e40e9",
   "metadata": {},
   "outputs": [
    {
     "name": "stdout",
     "output_type": "stream",
     "text": [
      "Тройная классификация с андерсэмплингом на сбалансированной тестовой выборке\n",
      "              precision    recall  f1-score   support\n",
      "\n",
      "         0.0       0.71      0.75      0.73      1147\n",
      "         1.0       0.59      0.44      0.51      1147\n",
      "         2.0       0.69      0.82      0.75      1147\n",
      "\n",
      "    accuracy                           0.67      3441\n",
      "   macro avg       0.66      0.67      0.66      3441\n",
      "weighted avg       0.66      0.67      0.66      3441\n",
      "\n"
     ]
    },
    {
     "data": {
      "image/png": "[encoded data removed]",
      "text/plain": [
       "<Figure size 640x480 with 2 Axes>"
      ]
     },
     "metadata": {},
     "output_type": "display_data"
    }
   ],
   "source": [
    "print('Тройная классификация с андерсэмплингом на сбалансированной тестовой выборке')\n",
    "classification_metrics(predictions, y_rus, model.predict_proba(X_rus))"
   ]
  },
  {
   "cell_type": "markdown",
   "id": "1d224e11-52ce-445f-ac0a-a0c2e503f152",
   "metadata": {},
   "source": [
    "## Подбор классификатора"
   ]
  },
  {
   "cell_type": "code",
   "execution_count": null,
   "id": "5291acc6-dcfe-452c-b8c7-a30dce058db7",
   "metadata": {},
   "outputs": [
    {
     "name": "stdout",
     "output_type": "stream",
     "text": [
      "0.6289989786246829\n",
      "[LightGBM] [Info] Auto-choosing col-wise multi-threading, the overhead of testing was 0.267329 seconds.\n",
      "You can set `force_col_wise=true` to remove the overhead.\n",
      "[LightGBM] [Info] Total Bins 692662\n",
      "[LightGBM] [Info] Number of data points in the train set: 61362, number of used features: 3500\n",
      "[LightGBM] [Info] Start training from score -1.098612\n",
      "[LightGBM] [Info] Start training from score -1.098612\n",
      "[LightGBM] [Info] Start training from score -1.098612\n",
      "0.6316310406523528\n",
      "0.5180688279840352\n"
     ]
    }
   ],
   "source": [
    "from sklearn.ensemble import RandomForestClassifier\n",
    "from sklearn.svm import SVC\n",
    "\n",
    "max_features = 3500\n",
    "clf_list = []\n",
    "clfs = [XGBClassifier, LGBMClassifier, RandomForestClassifier, SVC]\n",
    "for clf in clfs:\n",
    "    model, tfidf = train_model(X_train, y_train, clf, balancing = True,\n",
    "                    tfidf_max_features = max_features, tfidf_n_gram_range= (1, 1))\n",
    "    X_tfid = tfidf.transform(X_test)\n",
    "    predictions = model.predict(X_tfid)\n",
    "    print(f1_score(y_test, predictions, labels=[0,1,2], average = 'macro'))\n",
    "    clf_list.append(f1_score(y_test, predictions, labels=[0,1,2], average = 'macro'))\n"
   ]
  },
  {
   "cell_type": "code",
   "execution_count": null,
   "id": "b5b7f340-9c13-4b82-816d-2512f532c90b",
   "metadata": {},
   "outputs": [],
   "source": [
    "dict(zip(['XGBClassifier', 'LGBMClassifier', 'RandomForestClassifier', 'SVC'], clf_list))\n",
    "pd.DataFrame({'Classificator' : ['XGBClassifier', 'LGBMClassifier', 'RandomForestClassifier', 'SVC'], \n",
    "              'f1-macro': clf_list}).sort_values('f1-macro', ascending = False).reset_index(drop = True)"
   ]
  },
  {
   "cell_type": "markdown",
   "id": "95ce3c48-dde2-453a-bfd1-9989362d851f",
   "metadata": {},
   "source": [
    "## Подбор параметра max_features для TF-IDF"
   ]
  },
  {
   "cell_type": "code",
   "execution_count": 286,
   "id": "8e17d121-7d66-401a-ab55-0981df8f1fa0",
   "metadata": {},
   "outputs": [
    {
     "name": "stderr",
     "output_type": "stream",
     "text": [
      "  0%|                                                                                           | 0/12 [00:00<?, ?it/s]"
     ]
    },
    {
     "name": "stdout",
     "output_type": "stream",
     "text": [
      "[LightGBM] [Info] Auto-choosing col-wise multi-threading, the overhead of testing was 0.003698 seconds.\n",
      "You can set `force_col_wise=true` to remove the overhead.\n",
      "[LightGBM] [Info] Total Bins 25500\n",
      "[LightGBM] [Info] Number of data points in the train set: 10287, number of used features: 100\n",
      "[LightGBM] [Info] Start training from score -1.098612\n",
      "[LightGBM] [Info] Start training from score -1.098612\n",
      "[LightGBM] [Info] Start training from score -1.098612\n"
     ]
    },
    {
     "name": "stderr",
     "output_type": "stream",
     "text": [
      "  8%|██████▉                                                                            | 1/12 [00:04<00:53,  4.84s/it]"
     ]
    },
    {
     "name": "stdout",
     "output_type": "stream",
     "text": [
      "0.5154745869604939\n",
      "[LightGBM] [Info] Auto-choosing col-wise multi-threading, the overhead of testing was 0.012301 seconds.\n",
      "You can set `force_col_wise=true` to remove the overhead.\n",
      "[LightGBM] [Info] Total Bins 115145\n",
      "[LightGBM] [Info] Number of data points in the train set: 10287, number of used features: 500\n",
      "[LightGBM] [Info] Start training from score -1.098612\n",
      "[LightGBM] [Info] Start training from score -1.098612\n",
      "[LightGBM] [Info] Start training from score -1.098612\n"
     ]
    },
    {
     "name": "stderr",
     "output_type": "stream",
     "text": [
      " 17%|█████████████▊                                                                     | 2/12 [00:11<01:01,  6.18s/it]"
     ]
    },
    {
     "name": "stdout",
     "output_type": "stream",
     "text": [
      "0.5863459055603185\n",
      "[LightGBM] [Info] Auto-choosing col-wise multi-threading, the overhead of testing was 0.020897 seconds.\n",
      "You can set `force_col_wise=true` to remove the overhead.\n",
      "[LightGBM] [Info] Total Bins 176372\n",
      "[LightGBM] [Info] Number of data points in the train set: 10287, number of used features: 1000\n",
      "[LightGBM] [Info] Start training from score -1.098612\n",
      "[LightGBM] [Info] Start training from score -1.098612\n",
      "[LightGBM] [Info] Start training from score -1.098612\n"
     ]
    },
    {
     "name": "stderr",
     "output_type": "stream",
     "text": [
      " 25%|████████████████████▊                                                              | 3/12 [00:20<01:06,  7.36s/it]"
     ]
    },
    {
     "name": "stdout",
     "output_type": "stream",
     "text": [
      "0.6076201599818402\n",
      "[LightGBM] [Info] Auto-choosing col-wise multi-threading, the overhead of testing was 0.028667 seconds.\n",
      "You can set `force_col_wise=true` to remove the overhead.\n",
      "[LightGBM] [Info] Total Bins 213044\n",
      "[LightGBM] [Info] Number of data points in the train set: 10287, number of used features: 1500\n",
      "[LightGBM] [Info] Start training from score -1.098612\n",
      "[LightGBM] [Info] Start training from score -1.098612\n",
      "[LightGBM] [Info] Start training from score -1.098612\n"
     ]
    },
    {
     "name": "stderr",
     "output_type": "stream",
     "text": [
      " 33%|███████████████████████████▋                                                       | 4/12 [00:31<01:08,  8.51s/it]"
     ]
    },
    {
     "name": "stdout",
     "output_type": "stream",
     "text": [
      "0.6095168106519313\n",
      "[LightGBM] [Info] Auto-choosing col-wise multi-threading, the overhead of testing was 0.033892 seconds.\n",
      "You can set `force_col_wise=true` to remove the overhead.\n",
      "[LightGBM] [Info] Total Bins 236744\n",
      "[LightGBM] [Info] Number of data points in the train set: 10287, number of used features: 2000\n",
      "[LightGBM] [Info] Start training from score -1.098612\n",
      "[LightGBM] [Info] Start training from score -1.098612\n",
      "[LightGBM] [Info] Start training from score -1.098612\n"
     ]
    },
    {
     "name": "stderr",
     "output_type": "stream",
     "text": [
      " 42%|██████████████████████████████████▌                                                | 5/12 [00:41<01:05,  9.39s/it]"
     ]
    },
    {
     "name": "stdout",
     "output_type": "stream",
     "text": [
      "0.6101410947857593\n",
      "[LightGBM] [Info] Auto-choosing col-wise multi-threading, the overhead of testing was 0.041791 seconds.\n",
      "You can set `force_col_wise=true` to remove the overhead.\n",
      "[LightGBM] [Info] Total Bins 256201\n",
      "[LightGBM] [Info] Number of data points in the train set: 10287, number of used features: 2500\n",
      "[LightGBM] [Info] Start training from score -1.098612\n",
      "[LightGBM] [Info] Start training from score -1.098612\n",
      "[LightGBM] [Info] Start training from score -1.098612\n"
     ]
    },
    {
     "name": "stderr",
     "output_type": "stream",
     "text": [
      " 50%|█████████████████████████████████████████▌                                         | 6/12 [00:53<01:00, 10.14s/it]"
     ]
    },
    {
     "name": "stdout",
     "output_type": "stream",
     "text": [
      "0.6141645263264511\n",
      "[LightGBM] [Info] Auto-choosing row-wise multi-threading, the overhead of testing was 0.044175 seconds.\n",
      "You can set `force_row_wise=true` to remove the overhead.\n",
      "And if memory is not enough, you can set `force_col_wise=true`.\n",
      "[LightGBM] [Info] Total Bins 271934\n",
      "[LightGBM] [Info] Number of data points in the train set: 10287, number of used features: 2999\n",
      "[LightGBM] [Info] Start training from score -1.098612\n",
      "[LightGBM] [Info] Start training from score -1.098612\n",
      "[LightGBM] [Info] Start training from score -1.098612\n"
     ]
    },
    {
     "name": "stderr",
     "output_type": "stream",
     "text": [
      " 58%|████████████████████████████████████████████████▍                                  | 7/12 [01:05<00:54, 10.87s/it]"
     ]
    },
    {
     "name": "stdout",
     "output_type": "stream",
     "text": [
      "0.610396479562386\n",
      "[LightGBM] [Info] Auto-choosing row-wise multi-threading, the overhead of testing was 0.048349 seconds.\n",
      "You can set `force_row_wise=true` to remove the overhead.\n",
      "And if memory is not enough, you can set `force_col_wise=true`.\n",
      "[LightGBM] [Info] Total Bins 283002\n",
      "[LightGBM] [Info] Number of data points in the train set: 10287, number of used features: 3497\n",
      "[LightGBM] [Info] Start training from score -1.098612\n",
      "[LightGBM] [Info] Start training from score -1.098612\n",
      "[LightGBM] [Info] Start training from score -1.098612\n"
     ]
    },
    {
     "name": "stderr",
     "output_type": "stream",
     "text": [
      " 67%|███████████████████████████████████████████████████████▎                           | 8/12 [01:18<00:46, 11.57s/it]"
     ]
    },
    {
     "name": "stdout",
     "output_type": "stream",
     "text": [
      "0.6184213836946987\n",
      "[LightGBM] [Info] Auto-choosing col-wise multi-threading, the overhead of testing was 0.055671 seconds.\n",
      "You can set `force_col_wise=true` to remove the overhead.\n",
      "[LightGBM] [Info] Total Bins 293693\n",
      "[LightGBM] [Info] Number of data points in the train set: 10287, number of used features: 3987\n",
      "[LightGBM] [Info] Start training from score -1.098612\n",
      "[LightGBM] [Info] Start training from score -1.098612\n",
      "[LightGBM] [Info] Start training from score -1.098612\n"
     ]
    },
    {
     "name": "stderr",
     "output_type": "stream",
     "text": [
      " 75%|██████████████████████████████████████████████████████████████▎                    | 9/12 [01:32<00:36, 12.17s/it]"
     ]
    },
    {
     "name": "stdout",
     "output_type": "stream",
     "text": [
      "0.6116979417404144\n",
      "[LightGBM] [Info] Auto-choosing row-wise multi-threading, the overhead of testing was 0.060961 seconds.\n",
      "You can set `force_row_wise=true` to remove the overhead.\n",
      "And if memory is not enough, you can set `force_col_wise=true`.\n",
      "[LightGBM] [Info] Total Bins 304412\n",
      "[LightGBM] [Info] Number of data points in the train set: 10287, number of used features: 4479\n",
      "[LightGBM] [Info] Start training from score -1.098612\n",
      "[LightGBM] [Info] Start training from score -1.098612\n",
      "[LightGBM] [Info] Start training from score -1.098612\n"
     ]
    },
    {
     "name": "stderr",
     "output_type": "stream",
     "text": [
      " 83%|████████████████████████████████████████████████████████████████████▎             | 10/12 [01:46<00:25, 12.76s/it]"
     ]
    },
    {
     "name": "stdout",
     "output_type": "stream",
     "text": [
      "0.609747984573624\n",
      "[LightGBM] [Info] Auto-choosing row-wise multi-threading, the overhead of testing was 0.062543 seconds.\n",
      "You can set `force_row_wise=true` to remove the overhead.\n",
      "And if memory is not enough, you can set `force_col_wise=true`.\n",
      "[LightGBM] [Info] Total Bins 310313\n",
      "[LightGBM] [Info] Number of data points in the train set: 10287, number of used features: 4967\n",
      "[LightGBM] [Info] Start training from score -1.098612\n",
      "[LightGBM] [Info] Start training from score -1.098612\n",
      "[LightGBM] [Info] Start training from score -1.098612\n"
     ]
    },
    {
     "name": "stderr",
     "output_type": "stream",
     "text": [
      " 92%|███████████████████████████████████████████████████████████████████████████▏      | 11/12 [02:00<00:13, 13.17s/it]"
     ]
    },
    {
     "name": "stdout",
     "output_type": "stream",
     "text": [
      "0.6148219416386188\n",
      "[LightGBM] [Info] Auto-choosing col-wise multi-threading, the overhead of testing was 0.069686 seconds.\n",
      "You can set `force_col_wise=true` to remove the overhead.\n",
      "[LightGBM] [Info] Total Bins 317014\n",
      "[LightGBM] [Info] Number of data points in the train set: 10287, number of used features: 5448\n",
      "[LightGBM] [Info] Start training from score -1.098612\n",
      "[LightGBM] [Info] Start training from score -1.098612\n",
      "[LightGBM] [Info] Start training from score -1.098612\n"
     ]
    },
    {
     "name": "stderr",
     "output_type": "stream",
     "text": [
      "100%|██████████████████████████████████████████████████████████████████████████████████| 12/12 [02:15<00:00, 11.31s/it]"
     ]
    },
    {
     "name": "stdout",
     "output_type": "stream",
     "text": [
      "0.6152223266262252\n"
     ]
    },
    {
     "name": "stderr",
     "output_type": "stream",
     "text": [
      "\n"
     ]
    }
   ],
   "source": [
    "max_features_search = list(range(0, 6000, 500))\n",
    "max_features_search[0] = 100\n",
    "accuracy_list = []\n",
    "for feat in tqdm(max_features_search):\n",
    "    model, tfidf = train_model(X_train, y_train, LGBMClassifier, balancing = True,\n",
    "                    tfidf_max_features = feat, tfidf_n_gram_range= (1, 1))\n",
    "    X_tfid = tfidf.transform(X_test)\n",
    "    predictions = model.predict(X_tfid)\n",
    "    print(f1_score(y_test, predictions, labels=[0,1,2], average = 'macro'))\n",
    "    accuracy_list.append(f1_score(y_test, predictions, labels=[0,1,2], average = 'macro'))\n",
    "\n",
    "\n",
    "    "
   ]
  },
  {
   "cell_type": "code",
   "execution_count": 287,
   "id": "8e17453a-ca86-4768-906f-f52de2053e55",
   "metadata": {},
   "outputs": [
    {
     "name": "stderr",
     "output_type": "stream",
     "text": [
      "  8%|██████▉                                                                            | 1/12 [00:43<07:57, 43.43s/it]"
     ]
    },
    {
     "name": "stdout",
     "output_type": "stream",
     "text": [
      "0.5127592679383957\n"
     ]
    },
    {
     "name": "stderr",
     "output_type": "stream",
     "text": [
      " 17%|█████████████▊                                                                     | 2/12 [02:10<11:28, 68.90s/it]"
     ]
    },
    {
     "name": "stdout",
     "output_type": "stream",
     "text": [
      "0.5905722942548163\n"
     ]
    },
    {
     "name": "stderr",
     "output_type": "stream",
     "text": [
      " 25%|████████████████████▊                                                              | 3/12 [03:59<13:04, 87.15s/it]"
     ]
    },
    {
     "name": "stdout",
     "output_type": "stream",
     "text": [
      "0.6068826366340702\n"
     ]
    },
    {
     "name": "stderr",
     "output_type": "stream",
     "text": [
      " 33%|███████████████████████████▎                                                      | 4/12 [06:09<13:53, 104.18s/it]"
     ]
    },
    {
     "name": "stdout",
     "output_type": "stream",
     "text": [
      "0.6202671378066141\n"
     ]
    },
    {
     "name": "stderr",
     "output_type": "stream",
     "text": [
      " 42%|██████████████████████████████████▏                                               | 5/12 [08:28<13:37, 116.72s/it]"
     ]
    },
    {
     "name": "stdout",
     "output_type": "stream",
     "text": [
      "0.6245877318729701\n"
     ]
    },
    {
     "name": "stderr",
     "output_type": "stream",
     "text": [
      " 50%|█████████████████████████████████████████                                         | 6/12 [10:53<12:38, 126.41s/it]"
     ]
    },
    {
     "name": "stdout",
     "output_type": "stream",
     "text": [
      "0.6208468540613495\n"
     ]
    },
    {
     "name": "stderr",
     "output_type": "stream",
     "text": [
      " 58%|███████████████████████████████████████████████▊                                  | 7/12 [13:23<11:10, 134.09s/it]"
     ]
    },
    {
     "name": "stdout",
     "output_type": "stream",
     "text": [
      "0.6198998746041152\n"
     ]
    },
    {
     "name": "stderr",
     "output_type": "stream",
     "text": [
      " 67%|██████████████████████████████████████████████████████▋                           | 8/12 [16:01<09:27, 141.88s/it]"
     ]
    },
    {
     "name": "stdout",
     "output_type": "stream",
     "text": [
      "0.6251153459073956\n"
     ]
    },
    {
     "name": "stderr",
     "output_type": "stream",
     "text": [
      " 75%|█████████████████████████████████████████████████████████████▌                    | 9/12 [18:42<07:22, 147.62s/it]"
     ]
    },
    {
     "name": "stdout",
     "output_type": "stream",
     "text": [
      "0.6243578137689733\n"
     ]
    },
    {
     "name": "stderr",
     "output_type": "stream",
     "text": [
      " 83%|███████████████████████████████████████████████████████████████████▌             | 10/12 [21:27<05:05, 153.00s/it]"
     ]
    },
    {
     "name": "stdout",
     "output_type": "stream",
     "text": [
      "0.6231380653235262\n"
     ]
    },
    {
     "name": "stderr",
     "output_type": "stream",
     "text": [
      " 92%|██████████████████████████████████████████████████████████████████████████▎      | 11/12 [29:45<04:18, 258.58s/it]"
     ]
    },
    {
     "name": "stdout",
     "output_type": "stream",
     "text": [
      "0.6282889736488505\n"
     ]
    },
    {
     "name": "stderr",
     "output_type": "stream",
     "text": [
      "100%|█████████████████████████████████████████████████████████████████████████████████| 12/12 [32:49<00:00, 164.09s/it]"
     ]
    },
    {
     "name": "stdout",
     "output_type": "stream",
     "text": [
      "0.6278365739804056\n"
     ]
    },
    {
     "name": "stderr",
     "output_type": "stream",
     "text": [
      "\n"
     ]
    }
   ],
   "source": [
    "max_features_search = list(range(0, 6000, 500))\n",
    "max_features_search[0] = 100\n",
    "svc_list = []\n",
    "for feat in tqdm(max_features_search):\n",
    "    model, tfidf = train_model(X_train, y_train, SVC, balancing = True,\n",
    "                    tfidf_max_features = feat, tfidf_n_gram_range= (1, 1))\n",
    "    X_tfid = tfidf.transform(X_test)\n",
    "    predictions = model.predict(X_tfid)\n",
    "    print(f1_score(y_test, predictions, labels=[0,1,2], average = 'macro'))\n",
    "    svc_list.append(f1_score(y_test, predictions, labels=[0,1,2], average = 'macro'))\n",
    "\n",
    "\n",
    "    "
   ]
  },
  {
   "cell_type": "code",
   "execution_count": 135,
   "id": "21519cf1-f954-4089-92eb-114a0d59e740",
   "metadata": {},
   "outputs": [],
   "source": [
    "predictions = model.predict(X_tfid)\n",
    "accuracy = accuracy_score(y_test, predictions)\n"
   ]
  },
  {
   "cell_type": "code",
   "execution_count": 298,
   "id": "1c26a877-d011-479b-9c4e-d5edc9a45cab",
   "metadata": {},
   "outputs": [
    {
     "data": {
      "text/plain": [
       "<matplotlib.legend.Legend at 0x27eeaec0ec0>"
      ]
     },
     "execution_count": 298,
     "metadata": {},
     "output_type": "execute_result"
    },
    {
     "data": {
      "image/png": "[encoded data removed]",
      "text/plain": [
       "<Figure size 640x480 with 1 Axes>"
      ]
     },
     "metadata": {},
     "output_type": "display_data"
    }
   ],
   "source": [
    "import matplotlib.pyplot as plt\n",
    "plt.title('TF-IDF max_features F1-macro')\n",
    "plt.plot(max_features_search, accuracy_list)\n",
    "plt.plot(max_features_search, svc_list)\n",
    "plt.ylabel('f1-macro score')\n",
    "plt.xlabel('tf-idf features')\n",
    "plt.grid()\n",
    "plt.legend(['LGBM', 'SVC'])\n"
   ]
  },
  {
   "cell_type": "code",
   "execution_count": 351,
   "id": "68bd1a7c-78c7-4ed1-b636-507a62448bfe",
   "metadata": {},
   "outputs": [
    {
     "data": {
      "text/plain": [
       "3500"
      ]
     },
     "execution_count": 351,
     "metadata": {},
     "output_type": "execute_result"
    }
   ],
   "source": [
    "max_features_search[np.argmax(accuracy_list)]"
   ]
  },
  {
   "cell_type": "code",
   "execution_count": 380,
   "id": "9bd4d0dc-0212-4bd5-8742-0c5bd5bfb8be",
   "metadata": {},
   "outputs": [],
   "source": [
    "import itertools\n",
    "x = [1, 2, 3, 4]\n",
    "ngram_range = [p for p in itertools.product(x, repeat=2)]\n",
    "ngram_range = [a for a in ngram_range if a[0]<=a[1]]"
   ]
  },
  {
   "cell_type": "code",
   "execution_count": 382,
   "id": "a533cfee-ef5b-487a-abe4-bfcb5cd8c40f",
   "metadata": {},
   "outputs": [
    {
     "name": "stderr",
     "output_type": "stream",
     "text": [
      "  0%|                                                                                           | 0/10 [00:00<?, ?it/s]"
     ]
    },
    {
     "name": "stdout",
     "output_type": "stream",
     "text": [
      "[LightGBM] [Info] Auto-choosing row-wise multi-threading, the overhead of testing was 0.049088 seconds.\n",
      "You can set `force_row_wise=true` to remove the overhead.\n",
      "And if memory is not enough, you can set `force_col_wise=true`.\n",
      "[LightGBM] [Info] Total Bins 283270\n",
      "[LightGBM] [Info] Number of data points in the train set: 10287, number of used features: 3499\n",
      "[LightGBM] [Info] Start training from score -1.098612\n",
      "[LightGBM] [Info] Start training from score -1.098612\n",
      "[LightGBM] [Info] Start training from score -1.098612\n"
     ]
    },
    {
     "name": "stderr",
     "output_type": "stream",
     "text": [
      " 10%|████████▎                                                                          | 1/10 [00:15<02:17, 15.27s/it]"
     ]
    },
    {
     "name": "stdout",
     "output_type": "stream",
     "text": [
      "0.6138920050230771\n",
      "[LightGBM] [Info] Auto-choosing row-wise multi-threading, the overhead of testing was 0.053602 seconds.\n",
      "You can set `force_row_wise=true` to remove the overhead.\n",
      "And if memory is not enough, you can set `force_col_wise=true`.\n",
      "[LightGBM] [Info] Total Bins 304230\n",
      "[LightGBM] [Info] Number of data points in the train set: 10287, number of used features: 3500\n",
      "[LightGBM] [Info] Start training from score -1.098612\n",
      "[LightGBM] [Info] Start training from score -1.098612\n",
      "[LightGBM] [Info] Start training from score -1.098612\n"
     ]
    },
    {
     "name": "stderr",
     "output_type": "stream",
     "text": [
      " 20%|████████████████▌                                                                  | 2/10 [00:46<03:15, 24.42s/it]"
     ]
    },
    {
     "name": "stdout",
     "output_type": "stream",
     "text": [
      "0.6045820670587623\n",
      "[LightGBM] [Info] Auto-choosing row-wise multi-threading, the overhead of testing was 0.049789 seconds.\n",
      "You can set `force_row_wise=true` to remove the overhead.\n",
      "And if memory is not enough, you can set `force_col_wise=true`.\n",
      "[LightGBM] [Info] Total Bins 304710\n",
      "[LightGBM] [Info] Number of data points in the train set: 10287, number of used features: 3500\n",
      "[LightGBM] [Info] Start training from score -1.098612\n",
      "[LightGBM] [Info] Start training from score -1.098612\n",
      "[LightGBM] [Info] Start training from score -1.098612\n"
     ]
    },
    {
     "name": "stderr",
     "output_type": "stream",
     "text": [
      " 30%|████████████████████████▉                                                          | 3/10 [01:44<04:40, 40.12s/it]"
     ]
    },
    {
     "name": "stdout",
     "output_type": "stream",
     "text": [
      "0.6023007427288365\n",
      "[LightGBM] [Info] Auto-choosing row-wise multi-threading, the overhead of testing was 0.062221 seconds.\n",
      "You can set `force_row_wise=true` to remove the overhead.\n",
      "And if memory is not enough, you can set `force_col_wise=true`.\n",
      "[LightGBM] [Info] Total Bins 305755\n",
      "[LightGBM] [Info] Number of data points in the train set: 10287, number of used features: 3500\n",
      "[LightGBM] [Info] Start training from score -1.098612\n",
      "[LightGBM] [Info] Start training from score -1.098612\n",
      "[LightGBM] [Info] Start training from score -1.098612\n"
     ]
    },
    {
     "name": "stderr",
     "output_type": "stream",
     "text": [
      " 40%|█████████████████████████████████▏                                                 | 4/10 [03:25<06:25, 64.18s/it]"
     ]
    },
    {
     "name": "stdout",
     "output_type": "stream",
     "text": [
      "0.6093967449265881\n",
      "[LightGBM] [Info] Auto-choosing col-wise multi-threading, the overhead of testing was 0.032061 seconds.\n",
      "You can set `force_col_wise=true` to remove the overhead.\n",
      "[LightGBM] [Info] Total Bins 82360\n",
      "[LightGBM] [Info] Number of data points in the train set: 10287, number of used features: 3393\n",
      "[LightGBM] [Info] Start training from score -1.098612\n",
      "[LightGBM] [Info] Start training from score -1.098612\n",
      "[LightGBM] [Info] Start training from score -1.098612\n"
     ]
    },
    {
     "name": "stderr",
     "output_type": "stream",
     "text": [
      " 50%|█████████████████████████████████████████▌                                         | 5/10 [03:50<04:09, 49.93s/it]"
     ]
    },
    {
     "name": "stdout",
     "output_type": "stream",
     "text": [
      "0.5489793158381011\n",
      "[LightGBM] [Info] Auto-choosing col-wise multi-threading, the overhead of testing was 0.036377 seconds.\n",
      "You can set `force_col_wise=true` to remove the overhead.\n",
      "[LightGBM] [Info] Total Bins 83166\n",
      "[LightGBM] [Info] Number of data points in the train set: 10287, number of used features: 3401\n",
      "[LightGBM] [Info] Start training from score -1.098612\n",
      "[LightGBM] [Info] Start training from score -1.098612\n",
      "[LightGBM] [Info] Start training from score -1.098612\n"
     ]
    },
    {
     "name": "stderr",
     "output_type": "stream",
     "text": [
      " 60%|█████████████████████████████████████████████████▊                                 | 6/10 [04:46<03:28, 52.09s/it]"
     ]
    },
    {
     "name": "stdout",
     "output_type": "stream",
     "text": [
      "0.535673927040421\n",
      "[LightGBM] [Info] Auto-choosing col-wise multi-threading, the overhead of testing was 0.031851 seconds.\n",
      "You can set `force_col_wise=true` to remove the overhead.\n",
      "[LightGBM] [Info] Total Bins 83475\n",
      "[LightGBM] [Info] Number of data points in the train set: 10287, number of used features: 3406\n",
      "[LightGBM] [Info] Start training from score -1.098612\n",
      "[LightGBM] [Info] Start training from score -1.098612\n",
      "[LightGBM] [Info] Start training from score -1.098612\n"
     ]
    },
    {
     "name": "stderr",
     "output_type": "stream",
     "text": [
      " 70%|██████████████████████████████████████████████████████████                         | 7/10 [06:17<03:14, 64.69s/it]"
     ]
    },
    {
     "name": "stdout",
     "output_type": "stream",
     "text": [
      "0.5406413347029659\n",
      "[LightGBM] [Info] Auto-choosing row-wise multi-threading, the overhead of testing was 0.003362 seconds.\n",
      "You can set `force_row_wise=true` to remove the overhead.\n",
      "And if memory is not enough, you can set `force_col_wise=true`.\n",
      "[LightGBM] [Info] Total Bins 4421\n",
      "[LightGBM] [Info] Number of data points in the train set: 10287, number of used features: 338\n",
      "[LightGBM] [Info] Start training from score -1.098612\n",
      "[LightGBM] [Info] Start training from score -1.098612\n",
      "[LightGBM] [Info] Start training from score -1.098612\n"
     ]
    },
    {
     "name": "stderr",
     "output_type": "stream",
     "text": [
      " 80%|██████████████████████████████████████████████████████████████████▍                | 8/10 [06:52<01:50, 55.26s/it]"
     ]
    },
    {
     "name": "stdout",
     "output_type": "stream",
     "text": [
      "0.35359291069349813\n",
      "[LightGBM] [Info] Auto-choosing row-wise multi-threading, the overhead of testing was 0.002647 seconds.\n",
      "You can set `force_row_wise=true` to remove the overhead.\n",
      "And if memory is not enough, you can set `force_col_wise=true`.\n",
      "[LightGBM] [Info] Total Bins 4373\n",
      "[LightGBM] [Info] Number of data points in the train set: 10287, number of used features: 338\n",
      "[LightGBM] [Info] Start training from score -1.098612\n",
      "[LightGBM] [Info] Start training from score -1.098612\n",
      "[LightGBM] [Info] Start training from score -1.098612\n"
     ]
    },
    {
     "name": "stderr",
     "output_type": "stream",
     "text": [
      " 90%|██████████████████████████████████████████████████████████████████████████▋        | 9/10 [07:59<00:58, 58.83s/it]"
     ]
    },
    {
     "name": "stdout",
     "output_type": "stream",
     "text": [
      "0.3500715554917735\n",
      "[LightGBM] [Info] Auto-choosing row-wise multi-threading, the overhead of testing was 0.000282 seconds.\n",
      "You can set `force_row_wise=true` to remove the overhead.\n",
      "And if memory is not enough, you can set `force_col_wise=true`.\n",
      "[LightGBM] [Info] Total Bins 90\n",
      "[LightGBM] [Info] Number of data points in the train set: 10287, number of used features: 11\n",
      "[LightGBM] [Info] Start training from score -1.098612\n",
      "[LightGBM] [Info] Start training from score -1.098612\n",
      "[LightGBM] [Info] Start training from score -1.098612\n",
      "[LightGBM] [Warning] No further splits with positive gain, best gain: -inf\n",
      "[LightGBM] [Warning] No further splits with positive gain, best gain: -inf\n",
      "[LightGBM] [Warning] No further splits with positive gain, best gain: -inf\n",
      "[LightGBM] [Warning] No further splits with positive gain, best gain: -inf\n",
      "[LightGBM] [Warning] No further splits with positive gain, best gain: -inf\n",
      "[LightGBM] [Warning] No further splits with positive gain, best gain: -inf\n",
      "[LightGBM] [Warning] No further splits with positive gain, best gain: -inf\n",
      "[LightGBM] [Warning] No further splits with positive gain, best gain: -inf\n",
      "[LightGBM] [Warning] No further splits with positive gain, best gain: -inf\n",
      "[LightGBM] [Warning] No further splits with positive gain, best gain: -inf\n",
      "[LightGBM] [Warning] No further splits with positive gain, best gain: -inf\n",
      "[LightGBM] [Warning] No further splits with positive gain, best gain: -inf\n",
      "[LightGBM] [Warning] No further splits with positive gain, best gain: -inf\n",
      "[LightGBM] [Warning] No further splits with positive gain, best gain: -inf\n",
      "[LightGBM] [Warning] No further splits with positive gain, best gain: -inf\n",
      "[LightGBM] [Warning] No further splits with positive gain, best gain: -inf\n",
      "[LightGBM] [Warning] No further splits with positive gain, best gain: -inf\n",
      "[LightGBM] [Warning] No further splits with positive gain, best gain: -inf\n",
      "[LightGBM] [Warning] No further splits with positive gain, best gain: -inf\n",
      "[LightGBM] [Warning] No further splits with positive gain, best gain: -inf\n",
      "[LightGBM] [Warning] No further splits with positive gain, best gain: -inf\n",
      "[LightGBM] [Warning] No further splits with positive gain, best gain: -inf\n",
      "[LightGBM] [Warning] No further splits with positive gain, best gain: -inf\n",
      "[LightGBM] [Warning] No further splits with positive gain, best gain: -inf\n",
      "[LightGBM] [Warning] No further splits with positive gain, best gain: -inf\n",
      "[LightGBM] [Warning] No further splits with positive gain, best gain: -inf\n",
      "[LightGBM] [Warning] No further splits with positive gain, best gain: -inf\n",
      "[LightGBM] [Warning] No further splits with positive gain, best gain: -inf\n",
      "[LightGBM] [Warning] No further splits with positive gain, best gain: -inf\n",
      "[LightGBM] [Warning] No further splits with positive gain, best gain: -inf\n",
      "[LightGBM] [Warning] No further splits with positive gain, best gain: -inf\n",
      "[LightGBM] [Warning] No further splits with positive gain, best gain: -inf\n",
      "[LightGBM] [Warning] No further splits with positive gain, best gain: -inf\n",
      "[LightGBM] [Warning] No further splits with positive gain, best gain: -inf\n",
      "[LightGBM] [Warning] No further splits with positive gain, best gain: -inf\n",
      "[LightGBM] [Warning] No further splits with positive gain, best gain: -inf\n",
      "[LightGBM] [Warning] No further splits with positive gain, best gain: -inf\n",
      "[LightGBM] [Warning] No further splits with positive gain, best gain: -inf\n",
      "[LightGBM] [Warning] No further splits with positive gain, best gain: -inf\n",
      "[LightGBM] [Warning] No further splits with positive gain, best gain: -inf\n",
      "[LightGBM] [Warning] No further splits with positive gain, best gain: -inf\n",
      "[LightGBM] [Warning] No further splits with positive gain, best gain: -inf\n",
      "[LightGBM] [Warning] No further splits with positive gain, best gain: -inf\n",
      "[LightGBM] [Warning] No further splits with positive gain, best gain: -inf\n",
      "[LightGBM] [Warning] No further splits with positive gain, best gain: -inf\n",
      "[LightGBM] [Warning] No further splits with positive gain, best gain: -inf\n",
      "[LightGBM] [Warning] No further splits with positive gain, best gain: -inf\n",
      "[LightGBM] [Warning] No further splits with positive gain, best gain: -inf\n",
      "[LightGBM] [Warning] No further splits with positive gain, best gain: -inf\n",
      "[LightGBM] [Warning] No further splits with positive gain, best gain: -inf\n",
      "[LightGBM] [Warning] No further splits with positive gain, best gain: -inf\n",
      "[LightGBM] [Warning] No further splits with positive gain, best gain: -inf\n",
      "[LightGBM] [Warning] No further splits with positive gain, best gain: -inf\n",
      "[LightGBM] [Warning] No further splits with positive gain, best gain: -inf\n",
      "[LightGBM] [Warning] No further splits with positive gain, best gain: -inf\n",
      "[LightGBM] [Warning] No further splits with positive gain, best gain: -inf\n",
      "[LightGBM] [Warning] No further splits with positive gain, best gain: -inf\n",
      "[LightGBM] [Warning] No further splits with positive gain, best gain: -inf\n",
      "[LightGBM] [Warning] No further splits with positive gain, best gain: -inf\n",
      "[LightGBM] [Warning] No further splits with positive gain, best gain: -inf\n",
      "[LightGBM] [Warning] No further splits with positive gain, best gain: -inf\n",
      "[LightGBM] [Warning] No further splits with positive gain, best gain: -inf\n",
      "[LightGBM] [Warning] No further splits with positive gain, best gain: -inf\n",
      "[LightGBM] [Warning] No further splits with positive gain, best gain: -inf\n",
      "[LightGBM] [Warning] No further splits with positive gain, best gain: -inf\n",
      "[LightGBM] [Warning] No further splits with positive gain, best gain: -inf\n",
      "[LightGBM] [Warning] No further splits with positive gain, best gain: -inf\n",
      "[LightGBM] [Warning] No further splits with positive gain, best gain: -inf\n",
      "[LightGBM] [Warning] No further splits with positive gain, best gain: -inf\n",
      "[LightGBM] [Warning] No further splits with positive gain, best gain: -inf\n",
      "[LightGBM] [Warning] No further splits with positive gain, best gain: -inf\n",
      "[LightGBM] [Warning] No further splits with positive gain, best gain: -inf\n",
      "[LightGBM] [Warning] No further splits with positive gain, best gain: -inf\n",
      "[LightGBM] [Warning] No further splits with positive gain, best gain: -inf\n",
      "[LightGBM] [Warning] No further splits with positive gain, best gain: -inf\n",
      "[LightGBM] [Warning] No further splits with positive gain, best gain: -inf\n",
      "[LightGBM] [Warning] No further splits with positive gain, best gain: -inf\n",
      "[LightGBM] [Warning] No further splits with positive gain, best gain: -inf\n",
      "[LightGBM] [Warning] No further splits with positive gain, best gain: -inf\n",
      "[LightGBM] [Warning] No further splits with positive gain, best gain: -inf\n",
      "[LightGBM] [Warning] No further splits with positive gain, best gain: -inf\n",
      "[LightGBM] [Warning] No further splits with positive gain, best gain: -inf\n",
      "[LightGBM] [Warning] No further splits with positive gain, best gain: -inf\n",
      "[LightGBM] [Warning] No further splits with positive gain, best gain: -inf\n",
      "[LightGBM] [Warning] No further splits with positive gain, best gain: -inf\n",
      "[LightGBM] [Warning] No further splits with positive gain, best gain: -inf\n",
      "[LightGBM] [Warning] No further splits with positive gain, best gain: -inf\n",
      "[LightGBM] [Warning] No further splits with positive gain, best gain: -inf\n",
      "[LightGBM] [Warning] No further splits with positive gain, best gain: -inf\n",
      "[LightGBM] [Warning] No further splits with positive gain, best gain: -inf\n",
      "[LightGBM] [Warning] No further splits with positive gain, best gain: -inf\n",
      "[LightGBM] [Warning] No further splits with positive gain, best gain: -inf\n",
      "[LightGBM] [Warning] No further splits with positive gain, best gain: -inf\n",
      "[LightGBM] [Warning] No further splits with positive gain, best gain: -inf\n",
      "[LightGBM] [Warning] No further splits with positive gain, best gain: -inf\n",
      "[LightGBM] [Warning] No further splits with positive gain, best gain: -inf\n",
      "[LightGBM] [Warning] No further splits with positive gain, best gain: -inf\n",
      "[LightGBM] [Warning] No further splits with positive gain, best gain: -inf\n",
      "[LightGBM] [Warning] No further splits with positive gain, best gain: -inf\n",
      "[LightGBM] [Warning] No further splits with positive gain, best gain: -inf\n",
      "[LightGBM] [Warning] No further splits with positive gain, best gain: -inf\n",
      "[LightGBM] [Warning] No further splits with positive gain, best gain: -inf\n",
      "[LightGBM] [Warning] No further splits with positive gain, best gain: -inf\n",
      "[LightGBM] [Warning] No further splits with positive gain, best gain: -inf\n",
      "[LightGBM] [Warning] No further splits with positive gain, best gain: -inf\n",
      "[LightGBM] [Warning] No further splits with positive gain, best gain: -inf\n",
      "[LightGBM] [Warning] No further splits with positive gain, best gain: -inf\n",
      "[LightGBM] [Warning] No further splits with positive gain, best gain: -inf\n",
      "[LightGBM] [Warning] No further splits with positive gain, best gain: -inf\n",
      "[LightGBM] [Warning] No further splits with positive gain, best gain: -inf\n",
      "[LightGBM] [Warning] No further splits with positive gain, best gain: -inf\n",
      "[LightGBM] [Warning] No further splits with positive gain, best gain: -inf\n",
      "[LightGBM] [Warning] No further splits with positive gain, best gain: -inf\n",
      "[LightGBM] [Warning] No further splits with positive gain, best gain: -inf\n",
      "[LightGBM] [Warning] No further splits with positive gain, best gain: -inf\n",
      "[LightGBM] [Warning] No further splits with positive gain, best gain: -inf\n",
      "[LightGBM] [Warning] No further splits with positive gain, best gain: -inf\n",
      "[LightGBM] [Warning] No further splits with positive gain, best gain: -inf\n",
      "[LightGBM] [Warning] No further splits with positive gain, best gain: -inf\n",
      "[LightGBM] [Warning] No further splits with positive gain, best gain: -inf\n",
      "[LightGBM] [Warning] No further splits with positive gain, best gain: -inf\n",
      "[LightGBM] [Warning] No further splits with positive gain, best gain: -inf\n",
      "[LightGBM] [Warning] No further splits with positive gain, best gain: -inf\n",
      "[LightGBM] [Warning] No further splits with positive gain, best gain: -inf\n",
      "[LightGBM] [Warning] No further splits with positive gain, best gain: -inf\n",
      "[LightGBM] [Warning] No further splits with positive gain, best gain: -inf\n",
      "[LightGBM] [Warning] No further splits with positive gain, best gain: -inf\n",
      "[LightGBM] [Warning] No further splits with positive gain, best gain: -inf\n",
      "[LightGBM] [Warning] No further splits with positive gain, best gain: -inf\n",
      "[LightGBM] [Warning] No further splits with positive gain, best gain: -inf\n",
      "[LightGBM] [Warning] No further splits with positive gain, best gain: -inf\n",
      "[LightGBM] [Warning] No further splits with positive gain, best gain: -inf\n",
      "[LightGBM] [Warning] No further splits with positive gain, best gain: -inf\n",
      "[LightGBM] [Warning] No further splits with positive gain, best gain: -inf\n",
      "[LightGBM] [Warning] No further splits with positive gain, best gain: -inf\n",
      "[LightGBM] [Warning] No further splits with positive gain, best gain: -inf\n",
      "[LightGBM] [Warning] No further splits with positive gain, best gain: -inf\n",
      "[LightGBM] [Warning] No further splits with positive gain, best gain: -inf\n",
      "[LightGBM] [Warning] No further splits with positive gain, best gain: -inf\n",
      "[LightGBM] [Warning] No further splits with positive gain, best gain: -inf\n",
      "[LightGBM] [Warning] No further splits with positive gain, best gain: -inf\n",
      "[LightGBM] [Warning] No further splits with positive gain, best gain: -inf\n",
      "[LightGBM] [Warning] No further splits with positive gain, best gain: -inf\n",
      "[LightGBM] [Warning] No further splits with positive gain, best gain: -inf\n",
      "[LightGBM] [Warning] No further splits with positive gain, best gain: -inf\n",
      "[LightGBM] [Warning] No further splits with positive gain, best gain: -inf\n",
      "[LightGBM] [Warning] No further splits with positive gain, best gain: -inf\n",
      "[LightGBM] [Warning] No further splits with positive gain, best gain: -inf\n",
      "[LightGBM] [Warning] No further splits with positive gain, best gain: -inf\n",
      "[LightGBM] [Warning] No further splits with positive gain, best gain: -inf\n",
      "[LightGBM] [Warning] No further splits with positive gain, best gain: -inf\n",
      "[LightGBM] [Warning] No further splits with positive gain, best gain: -inf\n",
      "[LightGBM] [Warning] No further splits with positive gain, best gain: -inf\n",
      "[LightGBM] [Warning] No further splits with positive gain, best gain: -inf\n",
      "[LightGBM] [Warning] No further splits with positive gain, best gain: -inf\n",
      "[LightGBM] [Warning] No further splits with positive gain, best gain: -inf\n",
      "[LightGBM] [Warning] No further splits with positive gain, best gain: -inf\n",
      "[LightGBM] [Warning] No further splits with positive gain, best gain: -inf\n",
      "[LightGBM] [Warning] No further splits with positive gain, best gain: -inf\n",
      "[LightGBM] [Warning] No further splits with positive gain, best gain: -inf\n",
      "[LightGBM] [Warning] No further splits with positive gain, best gain: -inf\n",
      "[LightGBM] [Warning] No further splits with positive gain, best gain: -inf\n",
      "[LightGBM] [Warning] No further splits with positive gain, best gain: -inf\n",
      "[LightGBM] [Warning] No further splits with positive gain, best gain: -inf\n",
      "[LightGBM] [Warning] No further splits with positive gain, best gain: -inf\n",
      "[LightGBM] [Warning] No further splits with positive gain, best gain: -inf\n",
      "[LightGBM] [Warning] No further splits with positive gain, best gain: -inf\n",
      "[LightGBM] [Warning] No further splits with positive gain, best gain: -inf\n",
      "[LightGBM] [Warning] No further splits with positive gain, best gain: -inf\n",
      "[LightGBM] [Warning] No further splits with positive gain, best gain: -inf\n",
      "[LightGBM] [Warning] No further splits with positive gain, best gain: -inf\n",
      "[LightGBM] [Warning] No further splits with positive gain, best gain: -inf\n",
      "[LightGBM] [Warning] No further splits with positive gain, best gain: -inf\n",
      "[LightGBM] [Warning] No further splits with positive gain, best gain: -inf\n",
      "[LightGBM] [Warning] No further splits with positive gain, best gain: -inf\n",
      "[LightGBM] [Warning] No further splits with positive gain, best gain: -inf\n",
      "[LightGBM] [Warning] No further splits with positive gain, best gain: -inf\n",
      "[LightGBM] [Warning] No further splits with positive gain, best gain: -inf\n",
      "[LightGBM] [Warning] No further splits with positive gain, best gain: -inf\n",
      "[LightGBM] [Warning] No further splits with positive gain, best gain: -inf\n",
      "[LightGBM] [Warning] No further splits with positive gain, best gain: -inf\n",
      "[LightGBM] [Warning] No further splits with positive gain, best gain: -inf\n",
      "[LightGBM] [Warning] No further splits with positive gain, best gain: -inf\n",
      "[LightGBM] [Warning] No further splits with positive gain, best gain: -inf\n",
      "[LightGBM] [Warning] No further splits with positive gain, best gain: -inf\n",
      "[LightGBM] [Warning] No further splits with positive gain, best gain: -inf\n",
      "[LightGBM] [Warning] No further splits with positive gain, best gain: -inf\n",
      "[LightGBM] [Warning] No further splits with positive gain, best gain: -inf\n",
      "[LightGBM] [Warning] No further splits with positive gain, best gain: -inf\n",
      "[LightGBM] [Warning] No further splits with positive gain, best gain: -inf\n",
      "[LightGBM] [Warning] No further splits with positive gain, best gain: -inf\n",
      "[LightGBM] [Warning] No further splits with positive gain, best gain: -inf\n",
      "[LightGBM] [Warning] No further splits with positive gain, best gain: -inf\n",
      "[LightGBM] [Warning] No further splits with positive gain, best gain: -inf\n",
      "[LightGBM] [Warning] No further splits with positive gain, best gain: -inf\n",
      "[LightGBM] [Warning] No further splits with positive gain, best gain: -inf\n",
      "[LightGBM] [Warning] No further splits with positive gain, best gain: -inf\n",
      "[LightGBM] [Warning] No further splits with positive gain, best gain: -inf\n",
      "[LightGBM] [Warning] No further splits with positive gain, best gain: -inf\n",
      "[LightGBM] [Warning] No further splits with positive gain, best gain: -inf\n",
      "[LightGBM] [Warning] No further splits with positive gain, best gain: -inf\n",
      "[LightGBM] [Warning] No further splits with positive gain, best gain: -inf\n",
      "[LightGBM] [Warning] No further splits with positive gain, best gain: -inf\n",
      "[LightGBM] [Warning] No further splits with positive gain, best gain: -inf\n",
      "[LightGBM] [Warning] No further splits with positive gain, best gain: -inf\n",
      "[LightGBM] [Warning] No further splits with positive gain, best gain: -inf\n",
      "[LightGBM] [Warning] No further splits with positive gain, best gain: -inf\n",
      "[LightGBM] [Warning] No further splits with positive gain, best gain: -inf\n",
      "[LightGBM] [Warning] No further splits with positive gain, best gain: -inf\n",
      "[LightGBM] [Warning] No further splits with positive gain, best gain: -inf\n",
      "[LightGBM] [Warning] No further splits with positive gain, best gain: -inf\n",
      "[LightGBM] [Warning] No further splits with positive gain, best gain: -inf\n",
      "[LightGBM] [Warning] No further splits with positive gain, best gain: -inf\n",
      "[LightGBM] [Warning] No further splits with positive gain, best gain: -inf\n",
      "[LightGBM] [Warning] No further splits with positive gain, best gain: -inf\n",
      "[LightGBM] [Warning] No further splits with positive gain, best gain: -inf\n",
      "[LightGBM] [Warning] No further splits with positive gain, best gain: -inf\n",
      "[LightGBM] [Warning] No further splits with positive gain, best gain: -inf\n",
      "[LightGBM] [Warning] No further splits with positive gain, best gain: -inf\n",
      "[LightGBM] [Warning] No further splits with positive gain, best gain: -inf\n",
      "[LightGBM] [Warning] No further splits with positive gain, best gain: -inf\n",
      "[LightGBM] [Warning] No further splits with positive gain, best gain: -inf\n",
      "[LightGBM] [Warning] No further splits with positive gain, best gain: -inf\n",
      "[LightGBM] [Warning] No further splits with positive gain, best gain: -inf\n",
      "[LightGBM] [Warning] No further splits with positive gain, best gain: -inf\n",
      "[LightGBM] [Warning] No further splits with positive gain, best gain: -inf\n",
      "[LightGBM] [Warning] No further splits with positive gain, best gain: -inf\n",
      "[LightGBM] [Warning] No further splits with positive gain, best gain: -inf\n",
      "[LightGBM] [Warning] No further splits with positive gain, best gain: -inf\n",
      "[LightGBM] [Warning] No further splits with positive gain, best gain: -inf\n",
      "[LightGBM] [Warning] No further splits with positive gain, best gain: -inf\n",
      "[LightGBM] [Warning] No further splits with positive gain, best gain: -inf\n",
      "[LightGBM] [Warning] No further splits with positive gain, best gain: -inf\n",
      "[LightGBM] [Warning] No further splits with positive gain, best gain: -inf\n",
      "[LightGBM] [Warning] No further splits with positive gain, best gain: -inf\n",
      "[LightGBM] [Warning] No further splits with positive gain, best gain: -inf\n",
      "[LightGBM] [Warning] No further splits with positive gain, best gain: -inf\n",
      "[LightGBM] [Warning] No further splits with positive gain, best gain: -inf\n",
      "[LightGBM] [Warning] No further splits with positive gain, best gain: -inf\n",
      "[LightGBM] [Warning] No further splits with positive gain, best gain: -inf\n",
      "[LightGBM] [Warning] No further splits with positive gain, best gain: -inf\n",
      "[LightGBM] [Warning] No further splits with positive gain, best gain: -inf\n",
      "[LightGBM] [Warning] No further splits with positive gain, best gain: -inf\n",
      "[LightGBM] [Warning] No further splits with positive gain, best gain: -inf\n",
      "[LightGBM] [Warning] No further splits with positive gain, best gain: -inf\n",
      "[LightGBM] [Warning] No further splits with positive gain, best gain: -inf\n",
      "[LightGBM] [Warning] No further splits with positive gain, best gain: -inf\n",
      "[LightGBM] [Warning] No further splits with positive gain, best gain: -inf\n",
      "[LightGBM] [Warning] No further splits with positive gain, best gain: -inf\n",
      "[LightGBM] [Warning] No further splits with positive gain, best gain: -inf\n",
      "[LightGBM] [Warning] No further splits with positive gain, best gain: -inf\n",
      "[LightGBM] [Warning] No further splits with positive gain, best gain: -inf\n",
      "[LightGBM] [Warning] No further splits with positive gain, best gain: -inf\n",
      "[LightGBM] [Warning] No further splits with positive gain, best gain: -inf\n",
      "[LightGBM] [Warning] No further splits with positive gain, best gain: -inf\n",
      "[LightGBM] [Warning] No further splits with positive gain, best gain: -inf\n",
      "[LightGBM] [Warning] No further splits with positive gain, best gain: -inf\n",
      "[LightGBM] [Warning] No further splits with positive gain, best gain: -inf\n",
      "[LightGBM] [Warning] No further splits with positive gain, best gain: -inf\n",
      "[LightGBM] [Warning] No further splits with positive gain, best gain: -inf\n",
      "[LightGBM] [Warning] No further splits with positive gain, best gain: -inf\n",
      "[LightGBM] [Warning] No further splits with positive gain, best gain: -inf\n",
      "[LightGBM] [Warning] No further splits with positive gain, best gain: -inf\n",
      "[LightGBM] [Warning] No further splits with positive gain, best gain: -inf\n",
      "[LightGBM] [Warning] No further splits with positive gain, best gain: -inf\n",
      "[LightGBM] [Warning] No further splits with positive gain, best gain: -inf\n",
      "[LightGBM] [Warning] No further splits with positive gain, best gain: -inf\n",
      "[LightGBM] [Warning] No further splits with positive gain, best gain: -inf\n",
      "[LightGBM] [Warning] No further splits with positive gain, best gain: -inf\n",
      "[LightGBM] [Warning] No further splits with positive gain, best gain: -inf\n",
      "[LightGBM] [Warning] No further splits with positive gain, best gain: -inf\n",
      "[LightGBM] [Warning] No further splits with positive gain, best gain: -inf\n",
      "[LightGBM] [Warning] No further splits with positive gain, best gain: -inf\n",
      "[LightGBM] [Warning] No further splits with positive gain, best gain: -inf\n",
      "[LightGBM] [Warning] No further splits with positive gain, best gain: -inf\n",
      "[LightGBM] [Warning] No further splits with positive gain, best gain: -inf\n",
      "[LightGBM] [Warning] No further splits with positive gain, best gain: -inf\n",
      "[LightGBM] [Warning] No further splits with positive gain, best gain: -inf\n",
      "[LightGBM] [Warning] No further splits with positive gain, best gain: -inf\n",
      "[LightGBM] [Warning] No further splits with positive gain, best gain: -inf\n",
      "[LightGBM] [Warning] No further splits with positive gain, best gain: -inf\n",
      "[LightGBM] [Warning] No further splits with positive gain, best gain: -inf\n",
      "[LightGBM] [Warning] No further splits with positive gain, best gain: -inf\n",
      "[LightGBM] [Warning] No further splits with positive gain, best gain: -inf\n",
      "[LightGBM] [Warning] No further splits with positive gain, best gain: -inf\n",
      "[LightGBM] [Warning] No further splits with positive gain, best gain: -inf\n",
      "[LightGBM] [Warning] No further splits with positive gain, best gain: -inf\n",
      "[LightGBM] [Warning] No further splits with positive gain, best gain: -inf\n",
      "[LightGBM] [Warning] No further splits with positive gain, best gain: -inf\n",
      "[LightGBM] [Warning] No further splits with positive gain, best gain: -inf\n",
      "[LightGBM] [Warning] No further splits with positive gain, best gain: -inf\n",
      "[LightGBM] [Warning] No further splits with positive gain, best gain: -inf\n",
      "[LightGBM] [Warning] No further splits with positive gain, best gain: -inf\n",
      "[LightGBM] [Warning] No further splits with positive gain, best gain: -inf\n",
      "[LightGBM] [Warning] No further splits with positive gain, best gain: -inf\n",
      "[LightGBM] [Warning] No further splits with positive gain, best gain: -inf\n",
      "[LightGBM] [Warning] No further splits with positive gain, best gain: -inf\n",
      "[LightGBM] [Warning] No further splits with positive gain, best gain: -inf\n",
      "[LightGBM] [Warning] No further splits with positive gain, best gain: -inf\n",
      "[LightGBM] [Warning] No further splits with positive gain, best gain: -inf\n"
     ]
    },
    {
     "name": "stderr",
     "output_type": "stream",
     "text": [
      "100%|██████████████████████████████████████████████████████████████████████████████████| 10/10 [08:35<00:00, 51.55s/it]"
     ]
    },
    {
     "name": "stdout",
     "output_type": "stream",
     "text": [
      "0.09658064334939341\n"
     ]
    },
    {
     "name": "stderr",
     "output_type": "stream",
     "text": [
      "\n"
     ]
    }
   ],
   "source": [
    "ngram_list = []\n",
    "for ngram in tqdm(ngram_range):\n",
    "    model, tfidf = train_model(X_train, y_train, LGBMClassifier, balancing = True,\n",
    "                    tfidf_max_features = 3500, tfidf_n_gram_range= ngram)\n",
    "    X_tfid = tfidf.transform(X_test)\n",
    "    predictions = model.predict(X_tfid)\n",
    "    print(f1_score(y_test, predictions, labels=[0,1,2], average = 'macro'))\n",
    "    ngram_list.append(f1_score(y_test, predictions, labels=[0,1,2], average = 'macro'))\n",
    "\n",
    "\n",
    "    "
   ]
  },
  {
   "cell_type": "code",
   "execution_count": 549,
   "id": "4aea6c11-3579-41e5-82fa-62436275fe2a",
   "metadata": {},
   "outputs": [
    {
     "data": {
      "text/html": [
       "<div>\n",
       "<style scoped>\n",
       "    .dataframe tbody tr th:only-of-type {\n",
       "        vertical-align: middle;\n",
       "    }\n",
       "\n",
       "    .dataframe tbody tr th {\n",
       "        vertical-align: top;\n",
       "    }\n",
       "\n",
       "    .dataframe thead th {\n",
       "        text-align: right;\n",
       "    }\n",
       "</style>\n",
       "<table border=\"1\" class=\"dataframe\">\n",
       "  <thead>\n",
       "    <tr style=\"text-align: right;\">\n",
       "      <th></th>\n",
       "      <th>range</th>\n",
       "      <th>ngram</th>\n",
       "    </tr>\n",
       "  </thead>\n",
       "  <tbody>\n",
       "    <tr>\n",
       "      <th>0</th>\n",
       "      <td>(1, 1)</td>\n",
       "      <td>0.613892</td>\n",
       "    </tr>\n",
       "    <tr>\n",
       "      <th>1</th>\n",
       "      <td>(1, 4)</td>\n",
       "      <td>0.609397</td>\n",
       "    </tr>\n",
       "    <tr>\n",
       "      <th>2</th>\n",
       "      <td>(1, 2)</td>\n",
       "      <td>0.604582</td>\n",
       "    </tr>\n",
       "    <tr>\n",
       "      <th>3</th>\n",
       "      <td>(1, 3)</td>\n",
       "      <td>0.602301</td>\n",
       "    </tr>\n",
       "    <tr>\n",
       "      <th>4</th>\n",
       "      <td>(2, 2)</td>\n",
       "      <td>0.548979</td>\n",
       "    </tr>\n",
       "    <tr>\n",
       "      <th>5</th>\n",
       "      <td>(2, 4)</td>\n",
       "      <td>0.540641</td>\n",
       "    </tr>\n",
       "    <tr>\n",
       "      <th>6</th>\n",
       "      <td>(2, 3)</td>\n",
       "      <td>0.535674</td>\n",
       "    </tr>\n",
       "    <tr>\n",
       "      <th>7</th>\n",
       "      <td>(3, 3)</td>\n",
       "      <td>0.353593</td>\n",
       "    </tr>\n",
       "    <tr>\n",
       "      <th>8</th>\n",
       "      <td>(3, 4)</td>\n",
       "      <td>0.350072</td>\n",
       "    </tr>\n",
       "    <tr>\n",
       "      <th>9</th>\n",
       "      <td>(4, 4)</td>\n",
       "      <td>0.096581</td>\n",
       "    </tr>\n",
       "  </tbody>\n",
       "</table>\n",
       "</div>"
      ],
      "text/plain": [
       "    range     ngram\n",
       "0  (1, 1)  0.613892\n",
       "1  (1, 4)  0.609397\n",
       "2  (1, 2)  0.604582\n",
       "3  (1, 3)  0.602301\n",
       "4  (2, 2)  0.548979\n",
       "5  (2, 4)  0.540641\n",
       "6  (2, 3)  0.535674\n",
       "7  (3, 3)  0.353593\n",
       "8  (3, 4)  0.350072\n",
       "9  (4, 4)  0.096581"
      ]
     },
     "execution_count": 549,
     "metadata": {},
     "output_type": "execute_result"
    }
   ],
   "source": [
    "pd.DataFrame({'range' :ngram_range, 'ngram':ngram_list}).sort_values('ngram', ascending = False).reset_index(drop = True)"
   ]
  },
  {
   "cell_type": "markdown",
   "id": "2fb0fcf1-10c5-4a11-8973-7710dfa395e8",
   "metadata": {},
   "source": [
    "## Grid Search CV"
   ]
  },
  {
   "cell_type": "code",
   "execution_count": 113,
   "id": "16a0d126-0c21-4597-8d55-8cd8f8076f80",
   "metadata": {},
   "outputs": [],
   "source": [
    "param_grid = {'num_leaves': [31, 40, 50],\n",
    "              'n_estimators': [100, 200, 300]}\n",
    "\n"
   ]
  },
  {
   "cell_type": "code",
   "execution_count": 115,
   "id": "1b486e64-aed1-4067-9af7-62ae90bb1a39",
   "metadata": {},
   "outputs": [
    {
     "name": "stdout",
     "output_type": "stream",
     "text": [
      "[LightGBM] [Info] Auto-choosing row-wise multi-threading, the overhead of testing was 0.214425 seconds.\n",
      "You can set `force_row_wise=true` to remove the overhead.\n",
      "And if memory is not enough, you can set `force_col_wise=true`.\n",
      "[LightGBM] [Info] Total Bins 631291\n",
      "[LightGBM] [Info] Number of data points in the train set: 49089, number of used features: 3500\n",
      "[LightGBM] [Info] Start training from score -1.098612\n",
      "[LightGBM] [Info] Start training from score -1.098612\n",
      "[LightGBM] [Info] Start training from score -1.098612\n",
      "[LightGBM] [Info] Auto-choosing row-wise multi-threading, the overhead of testing was 0.191445 seconds.\n",
      "You can set `force_row_wise=true` to remove the overhead.\n",
      "And if memory is not enough, you can set `force_col_wise=true`.\n",
      "[LightGBM] [Info] Total Bins 632913\n",
      "[LightGBM] [Info] Number of data points in the train set: 49089, number of used features: 3500\n",
      "[LightGBM] [Info] Start training from score -1.098612\n",
      "[LightGBM] [Info] Start training from score -1.098612\n",
      "[LightGBM] [Info] Start training from score -1.098612\n",
      "[LightGBM] [Info] Auto-choosing col-wise multi-threading, the overhead of testing was 0.222522 seconds.\n",
      "You can set `force_col_wise=true` to remove the overhead.\n",
      "[LightGBM] [Info] Total Bins 633290\n",
      "[LightGBM] [Info] Number of data points in the train set: 49090, number of used features: 3500\n",
      "[LightGBM] [Info] Start training from score -1.098572\n",
      "[LightGBM] [Info] Start training from score -1.098633\n",
      "[LightGBM] [Info] Start training from score -1.098633\n",
      "[LightGBM] [Info] Auto-choosing col-wise multi-threading, the overhead of testing was 0.198513 seconds.\n",
      "You can set `force_col_wise=true` to remove the overhead.\n",
      "[LightGBM] [Info] Total Bins 634327\n",
      "[LightGBM] [Info] Number of data points in the train set: 49090, number of used features: 3500\n",
      "[LightGBM] [Info] Start training from score -1.098633\n",
      "[LightGBM] [Info] Start training from score -1.098633\n",
      "[LightGBM] [Info] Start training from score -1.098572\n",
      "[LightGBM] [Info] Auto-choosing col-wise multi-threading, the overhead of testing was 0.192876 seconds.\n",
      "You can set `force_col_wise=true` to remove the overhead.\n",
      "[LightGBM] [Info] Total Bins 633687\n",
      "[LightGBM] [Info] Number of data points in the train set: 49090, number of used features: 3500\n",
      "[LightGBM] [Info] Start training from score -1.098633\n",
      "[LightGBM] [Info] Start training from score -1.098572\n",
      "[LightGBM] [Info] Start training from score -1.098633\n",
      "[LightGBM] [Info] Auto-choosing col-wise multi-threading, the overhead of testing was 0.234596 seconds.\n",
      "You can set `force_col_wise=true` to remove the overhead.\n",
      "[LightGBM] [Info] Total Bins 631291\n",
      "[LightGBM] [Info] Number of data points in the train set: 49089, number of used features: 3500\n",
      "[LightGBM] [Info] Start training from score -1.098612\n",
      "[LightGBM] [Info] Start training from score -1.098612\n",
      "[LightGBM] [Info] Start training from score -1.098612\n",
      "[LightGBM] [Info] Auto-choosing row-wise multi-threading, the overhead of testing was 0.199026 seconds.\n",
      "You can set `force_row_wise=true` to remove the overhead.\n",
      "And if memory is not enough, you can set `force_col_wise=true`.\n",
      "[LightGBM] [Info] Total Bins 632913\n",
      "[LightGBM] [Info] Number of data points in the train set: 49089, number of used features: 3500\n",
      "[LightGBM] [Info] Start training from score -1.098612\n",
      "[LightGBM] [Info] Start training from score -1.098612\n",
      "[LightGBM] [Info] Start training from score -1.098612\n",
      "[LightGBM] [Info] Auto-choosing col-wise multi-threading, the overhead of testing was 0.206009 seconds.\n",
      "You can set `force_col_wise=true` to remove the overhead.\n",
      "[LightGBM] [Info] Total Bins 633290\n",
      "[LightGBM] [Info] Number of data points in the train set: 49090, number of used features: 3500\n",
      "[LightGBM] [Info] Start training from score -1.098572\n",
      "[LightGBM] [Info] Start training from score -1.098633\n",
      "[LightGBM] [Info] Start training from score -1.098633\n",
      "[LightGBM] [Info] Auto-choosing col-wise multi-threading, the overhead of testing was 0.213970 seconds.\n",
      "You can set `force_col_wise=true` to remove the overhead.\n",
      "[LightGBM] [Info] Total Bins 634327\n",
      "[LightGBM] [Info] Number of data points in the train set: 49090, number of used features: 3500\n",
      "[LightGBM] [Info] Start training from score -1.098633\n",
      "[LightGBM] [Info] Start training from score -1.098633\n",
      "[LightGBM] [Info] Start training from score -1.098572\n",
      "[LightGBM] [Info] Auto-choosing col-wise multi-threading, the overhead of testing was 0.199176 seconds.\n",
      "You can set `force_col_wise=true` to remove the overhead.\n",
      "[LightGBM] [Info] Total Bins 633687\n",
      "[LightGBM] [Info] Number of data points in the train set: 49090, number of used features: 3500\n",
      "[LightGBM] [Info] Start training from score -1.098633\n",
      "[LightGBM] [Info] Start training from score -1.098572\n",
      "[LightGBM] [Info] Start training from score -1.098633\n",
      "[LightGBM] [Info] Auto-choosing col-wise multi-threading, the overhead of testing was 0.191137 seconds.\n",
      "You can set `force_col_wise=true` to remove the overhead.\n",
      "[LightGBM] [Info] Total Bins 631291\n",
      "[LightGBM] [Info] Number of data points in the train set: 49089, number of used features: 3500\n",
      "[LightGBM] [Info] Start training from score -1.098612\n",
      "[LightGBM] [Info] Start training from score -1.098612\n",
      "[LightGBM] [Info] Start training from score -1.098612\n",
      "[LightGBM] [Info] Auto-choosing col-wise multi-threading, the overhead of testing was 0.212141 seconds.\n",
      "You can set `force_col_wise=true` to remove the overhead.\n",
      "[LightGBM] [Info] Total Bins 632913\n",
      "[LightGBM] [Info] Number of data points in the train set: 49089, number of used features: 3500\n",
      "[LightGBM] [Info] Start training from score -1.098612\n",
      "[LightGBM] [Info] Start training from score -1.098612\n",
      "[LightGBM] [Info] Start training from score -1.098612\n",
      "[LightGBM] [Info] Auto-choosing col-wise multi-threading, the overhead of testing was 0.192856 seconds.\n",
      "You can set `force_col_wise=true` to remove the overhead.\n",
      "[LightGBM] [Info] Total Bins 633290\n",
      "[LightGBM] [Info] Number of data points in the train set: 49090, number of used features: 3500\n",
      "[LightGBM] [Info] Start training from score -1.098572\n",
      "[LightGBM] [Info] Start training from score -1.098633\n",
      "[LightGBM] [Info] Start training from score -1.098633\n",
      "[LightGBM] [Info] Auto-choosing col-wise multi-threading, the overhead of testing was 0.227372 seconds.\n",
      "You can set `force_col_wise=true` to remove the overhead.\n",
      "[LightGBM] [Info] Total Bins 634327\n",
      "[LightGBM] [Info] Number of data points in the train set: 49090, number of used features: 3500\n",
      "[LightGBM] [Info] Start training from score -1.098633\n",
      "[LightGBM] [Info] Start training from score -1.098633\n",
      "[LightGBM] [Info] Start training from score -1.098572\n",
      "[LightGBM] [Info] Auto-choosing col-wise multi-threading, the overhead of testing was 0.196133 seconds.\n",
      "You can set `force_col_wise=true` to remove the overhead.\n",
      "[LightGBM] [Info] Total Bins 633687\n",
      "[LightGBM] [Info] Number of data points in the train set: 49090, number of used features: 3500\n",
      "[LightGBM] [Info] Start training from score -1.098633\n",
      "[LightGBM] [Info] Start training from score -1.098572\n",
      "[LightGBM] [Info] Start training from score -1.098633\n",
      "[LightGBM] [Info] Auto-choosing col-wise multi-threading, the overhead of testing was 0.199053 seconds.\n",
      "You can set `force_col_wise=true` to remove the overhead.\n",
      "[LightGBM] [Info] Total Bins 631291\n",
      "[LightGBM] [Info] Number of data points in the train set: 49089, number of used features: 3500\n",
      "[LightGBM] [Info] Start training from score -1.098612\n",
      "[LightGBM] [Info] Start training from score -1.098612\n",
      "[LightGBM] [Info] Start training from score -1.098612\n",
      "[LightGBM] [Info] Auto-choosing row-wise multi-threading, the overhead of testing was 0.193606 seconds.\n",
      "You can set `force_row_wise=true` to remove the overhead.\n",
      "And if memory is not enough, you can set `force_col_wise=true`.\n",
      "[LightGBM] [Info] Total Bins 632913\n",
      "[LightGBM] [Info] Number of data points in the train set: 49089, number of used features: 3500\n",
      "[LightGBM] [Info] Start training from score -1.098612\n",
      "[LightGBM] [Info] Start training from score -1.098612\n",
      "[LightGBM] [Info] Start training from score -1.098612\n",
      "[LightGBM] [Info] Auto-choosing row-wise multi-threading, the overhead of testing was 0.215398 seconds.\n",
      "You can set `force_row_wise=true` to remove the overhead.\n",
      "And if memory is not enough, you can set `force_col_wise=true`.\n",
      "[LightGBM] [Info] Total Bins 633290\n",
      "[LightGBM] [Info] Number of data points in the train set: 49090, number of used features: 3500\n",
      "[LightGBM] [Info] Start training from score -1.098572\n",
      "[LightGBM] [Info] Start training from score -1.098633\n",
      "[LightGBM] [Info] Start training from score -1.098633\n",
      "[LightGBM] [Info] Auto-choosing col-wise multi-threading, the overhead of testing was 0.219772 seconds.\n",
      "You can set `force_col_wise=true` to remove the overhead.\n",
      "[LightGBM] [Info] Total Bins 634327\n",
      "[LightGBM] [Info] Number of data points in the train set: 49090, number of used features: 3500\n",
      "[LightGBM] [Info] Start training from score -1.098633\n",
      "[LightGBM] [Info] Start training from score -1.098633\n",
      "[LightGBM] [Info] Start training from score -1.098572\n",
      "[LightGBM] [Info] Auto-choosing row-wise multi-threading, the overhead of testing was 0.193672 seconds.\n",
      "You can set `force_row_wise=true` to remove the overhead.\n",
      "And if memory is not enough, you can set `force_col_wise=true`.\n",
      "[LightGBM] [Info] Total Bins 633687\n",
      "[LightGBM] [Info] Number of data points in the train set: 49090, number of used features: 3500\n",
      "[LightGBM] [Info] Start training from score -1.098633\n",
      "[LightGBM] [Info] Start training from score -1.098572\n",
      "[LightGBM] [Info] Start training from score -1.098633\n",
      "[LightGBM] [Info] Auto-choosing row-wise multi-threading, the overhead of testing was 0.232014 seconds.\n",
      "You can set `force_row_wise=true` to remove the overhead.\n",
      "And if memory is not enough, you can set `force_col_wise=true`.\n",
      "[LightGBM] [Info] Total Bins 631291\n",
      "[LightGBM] [Info] Number of data points in the train set: 49089, number of used features: 3500\n",
      "[LightGBM] [Info] Start training from score -1.098612\n",
      "[LightGBM] [Info] Start training from score -1.098612\n",
      "[LightGBM] [Info] Start training from score -1.098612\n",
      "[LightGBM] [Info] Auto-choosing row-wise multi-threading, the overhead of testing was 0.188962 seconds.\n",
      "You can set `force_row_wise=true` to remove the overhead.\n",
      "And if memory is not enough, you can set `force_col_wise=true`.\n",
      "[LightGBM] [Info] Total Bins 632913\n",
      "[LightGBM] [Info] Number of data points in the train set: 49089, number of used features: 3500\n",
      "[LightGBM] [Info] Start training from score -1.098612\n",
      "[LightGBM] [Info] Start training from score -1.098612\n",
      "[LightGBM] [Info] Start training from score -1.098612\n",
      "[LightGBM] [Info] Auto-choosing col-wise multi-threading, the overhead of testing was 0.191373 seconds.\n",
      "You can set `force_col_wise=true` to remove the overhead.\n",
      "[LightGBM] [Info] Total Bins 633290\n",
      "[LightGBM] [Info] Number of data points in the train set: 49090, number of used features: 3500\n",
      "[LightGBM] [Info] Start training from score -1.098572\n",
      "[LightGBM] [Info] Start training from score -1.098633\n",
      "[LightGBM] [Info] Start training from score -1.098633\n",
      "[LightGBM] [Info] Auto-choosing col-wise multi-threading, the overhead of testing was 0.195812 seconds.\n",
      "You can set `force_col_wise=true` to remove the overhead.\n",
      "[LightGBM] [Info] Total Bins 634327\n",
      "[LightGBM] [Info] Number of data points in the train set: 49090, number of used features: 3500\n",
      "[LightGBM] [Info] Start training from score -1.098633\n",
      "[LightGBM] [Info] Start training from score -1.098633\n",
      "[LightGBM] [Info] Start training from score -1.098572\n",
      "[LightGBM] [Info] Auto-choosing row-wise multi-threading, the overhead of testing was 0.185780 seconds.\n",
      "You can set `force_row_wise=true` to remove the overhead.\n",
      "And if memory is not enough, you can set `force_col_wise=true`.\n",
      "[LightGBM] [Info] Total Bins 633687\n",
      "[LightGBM] [Info] Number of data points in the train set: 49090, number of used features: 3500\n",
      "[LightGBM] [Info] Start training from score -1.098633\n",
      "[LightGBM] [Info] Start training from score -1.098572\n",
      "[LightGBM] [Info] Start training from score -1.098633\n",
      "[LightGBM] [Info] Auto-choosing col-wise multi-threading, the overhead of testing was 0.205926 seconds.\n",
      "You can set `force_col_wise=true` to remove the overhead.\n",
      "[LightGBM] [Info] Total Bins 631291\n",
      "[LightGBM] [Info] Number of data points in the train set: 49089, number of used features: 3500\n",
      "[LightGBM] [Info] Start training from score -1.098612\n",
      "[LightGBM] [Info] Start training from score -1.098612\n",
      "[LightGBM] [Info] Start training from score -1.098612\n",
      "[LightGBM] [Info] Auto-choosing row-wise multi-threading, the overhead of testing was 0.199922 seconds.\n",
      "You can set `force_row_wise=true` to remove the overhead.\n",
      "And if memory is not enough, you can set `force_col_wise=true`.\n",
      "[LightGBM] [Info] Total Bins 632913\n",
      "[LightGBM] [Info] Number of data points in the train set: 49089, number of used features: 3500\n",
      "[LightGBM] [Info] Start training from score -1.098612\n",
      "[LightGBM] [Info] Start training from score -1.098612\n",
      "[LightGBM] [Info] Start training from score -1.098612\n",
      "[LightGBM] [Info] Auto-choosing col-wise multi-threading, the overhead of testing was 0.226125 seconds.\n",
      "You can set `force_col_wise=true` to remove the overhead.\n",
      "[LightGBM] [Info] Total Bins 633290\n",
      "[LightGBM] [Info] Number of data points in the train set: 49090, number of used features: 3500\n",
      "[LightGBM] [Info] Start training from score -1.098572\n",
      "[LightGBM] [Info] Start training from score -1.098633\n",
      "[LightGBM] [Info] Start training from score -1.098633\n",
      "[LightGBM] [Info] Auto-choosing col-wise multi-threading, the overhead of testing was 0.199908 seconds.\n",
      "You can set `force_col_wise=true` to remove the overhead.\n",
      "[LightGBM] [Info] Total Bins 634327\n",
      "[LightGBM] [Info] Number of data points in the train set: 49090, number of used features: 3500\n",
      "[LightGBM] [Info] Start training from score -1.098633\n",
      "[LightGBM] [Info] Start training from score -1.098633\n",
      "[LightGBM] [Info] Start training from score -1.098572\n",
      "[LightGBM] [Info] Auto-choosing row-wise multi-threading, the overhead of testing was 0.219858 seconds.\n",
      "You can set `force_row_wise=true` to remove the overhead.\n",
      "And if memory is not enough, you can set `force_col_wise=true`.\n",
      "[LightGBM] [Info] Total Bins 633687\n",
      "[LightGBM] [Info] Number of data points in the train set: 49090, number of used features: 3500\n",
      "[LightGBM] [Info] Start training from score -1.098633\n",
      "[LightGBM] [Info] Start training from score -1.098572\n",
      "[LightGBM] [Info] Start training from score -1.098633\n",
      "[LightGBM] [Info] Auto-choosing row-wise multi-threading, the overhead of testing was 0.232649 seconds.\n",
      "You can set `force_row_wise=true` to remove the overhead.\n",
      "And if memory is not enough, you can set `force_col_wise=true`.\n",
      "[LightGBM] [Info] Total Bins 631291\n",
      "[LightGBM] [Info] Number of data points in the train set: 49089, number of used features: 3500\n",
      "[LightGBM] [Info] Start training from score -1.098612\n",
      "[LightGBM] [Info] Start training from score -1.098612\n",
      "[LightGBM] [Info] Start training from score -1.098612\n",
      "[LightGBM] [Info] Auto-choosing row-wise multi-threading, the overhead of testing was 0.209290 seconds.\n",
      "You can set `force_row_wise=true` to remove the overhead.\n",
      "And if memory is not enough, you can set `force_col_wise=true`.\n",
      "[LightGBM] [Info] Total Bins 632913\n",
      "[LightGBM] [Info] Number of data points in the train set: 49089, number of used features: 3500\n",
      "[LightGBM] [Info] Start training from score -1.098612\n",
      "[LightGBM] [Info] Start training from score -1.098612\n",
      "[LightGBM] [Info] Start training from score -1.098612\n",
      "[LightGBM] [Info] Auto-choosing row-wise multi-threading, the overhead of testing was 0.177018 seconds.\n",
      "You can set `force_row_wise=true` to remove the overhead.\n",
      "And if memory is not enough, you can set `force_col_wise=true`.\n",
      "[LightGBM] [Info] Total Bins 633290\n",
      "[LightGBM] [Info] Number of data points in the train set: 49090, number of used features: 3500\n",
      "[LightGBM] [Info] Start training from score -1.098572\n",
      "[LightGBM] [Info] Start training from score -1.098633\n",
      "[LightGBM] [Info] Start training from score -1.098633\n",
      "[LightGBM] [Info] Auto-choosing col-wise multi-threading, the overhead of testing was 0.213074 seconds.\n",
      "You can set `force_col_wise=true` to remove the overhead.\n",
      "[LightGBM] [Info] Total Bins 634327\n",
      "[LightGBM] [Info] Number of data points in the train set: 49090, number of used features: 3500\n",
      "[LightGBM] [Info] Start training from score -1.098633\n",
      "[LightGBM] [Info] Start training from score -1.098633\n",
      "[LightGBM] [Info] Start training from score -1.098572\n",
      "[LightGBM] [Info] Auto-choosing col-wise multi-threading, the overhead of testing was 0.201618 seconds.\n",
      "You can set `force_col_wise=true` to remove the overhead.\n",
      "[LightGBM] [Info] Total Bins 633687\n",
      "[LightGBM] [Info] Number of data points in the train set: 49090, number of used features: 3500\n",
      "[LightGBM] [Info] Start training from score -1.098633\n",
      "[LightGBM] [Info] Start training from score -1.098572\n",
      "[LightGBM] [Info] Start training from score -1.098633\n",
      "[LightGBM] [Info] Auto-choosing col-wise multi-threading, the overhead of testing was 0.206167 seconds.\n",
      "You can set `force_col_wise=true` to remove the overhead.\n",
      "[LightGBM] [Info] Total Bins 631291\n",
      "[LightGBM] [Info] Number of data points in the train set: 49089, number of used features: 3500\n",
      "[LightGBM] [Info] Start training from score -1.098612\n",
      "[LightGBM] [Info] Start training from score -1.098612\n",
      "[LightGBM] [Info] Start training from score -1.098612\n",
      "[LightGBM] [Info] Auto-choosing row-wise multi-threading, the overhead of testing was 0.297189 seconds.\n",
      "You can set `force_row_wise=true` to remove the overhead.\n",
      "And if memory is not enough, you can set `force_col_wise=true`.\n",
      "[LightGBM] [Info] Total Bins 632913\n",
      "[LightGBM] [Info] Number of data points in the train set: 49089, number of used features: 3500\n",
      "[LightGBM] [Info] Start training from score -1.098612\n",
      "[LightGBM] [Info] Start training from score -1.098612\n",
      "[LightGBM] [Info] Start training from score -1.098612\n",
      "[LightGBM] [Info] Auto-choosing row-wise multi-threading, the overhead of testing was 0.195754 seconds.\n",
      "You can set `force_row_wise=true` to remove the overhead.\n",
      "And if memory is not enough, you can set `force_col_wise=true`.\n",
      "[LightGBM] [Info] Total Bins 633290\n",
      "[LightGBM] [Info] Number of data points in the train set: 49090, number of used features: 3500\n",
      "[LightGBM] [Info] Start training from score -1.098572\n",
      "[LightGBM] [Info] Start training from score -1.098633\n",
      "[LightGBM] [Info] Start training from score -1.098633\n",
      "[LightGBM] [Info] Auto-choosing col-wise multi-threading, the overhead of testing was 0.193939 seconds.\n",
      "You can set `force_col_wise=true` to remove the overhead.\n",
      "[LightGBM] [Info] Total Bins 634327\n",
      "[LightGBM] [Info] Number of data points in the train set: 49090, number of used features: 3500\n",
      "[LightGBM] [Info] Start training from score -1.098633\n",
      "[LightGBM] [Info] Start training from score -1.098633\n",
      "[LightGBM] [Info] Start training from score -1.098572\n",
      "[LightGBM] [Info] Auto-choosing col-wise multi-threading, the overhead of testing was 0.213240 seconds.\n",
      "You can set `force_col_wise=true` to remove the overhead.\n",
      "[LightGBM] [Info] Total Bins 633687\n",
      "[LightGBM] [Info] Number of data points in the train set: 49090, number of used features: 3500\n",
      "[LightGBM] [Info] Start training from score -1.098633\n",
      "[LightGBM] [Info] Start training from score -1.098572\n",
      "[LightGBM] [Info] Start training from score -1.098633\n",
      "[LightGBM] [Info] Auto-choosing col-wise multi-threading, the overhead of testing was 0.185731 seconds.\n",
      "You can set `force_col_wise=true` to remove the overhead.\n",
      "[LightGBM] [Info] Total Bins 631291\n",
      "[LightGBM] [Info] Number of data points in the train set: 49089, number of used features: 3500\n",
      "[LightGBM] [Info] Start training from score -1.098612\n",
      "[LightGBM] [Info] Start training from score -1.098612\n",
      "[LightGBM] [Info] Start training from score -1.098612\n",
      "[LightGBM] [Info] Auto-choosing row-wise multi-threading, the overhead of testing was 0.201629 seconds.\n",
      "You can set `force_row_wise=true` to remove the overhead.\n",
      "And if memory is not enough, you can set `force_col_wise=true`.\n",
      "[LightGBM] [Info] Total Bins 632913\n",
      "[LightGBM] [Info] Number of data points in the train set: 49089, number of used features: 3500\n",
      "[LightGBM] [Info] Start training from score -1.098612\n",
      "[LightGBM] [Info] Start training from score -1.098612\n",
      "[LightGBM] [Info] Start training from score -1.098612\n",
      "[LightGBM] [Info] Auto-choosing col-wise multi-threading, the overhead of testing was 0.200862 seconds.\n",
      "You can set `force_col_wise=true` to remove the overhead.\n",
      "[LightGBM] [Info] Total Bins 633290\n",
      "[LightGBM] [Info] Number of data points in the train set: 49090, number of used features: 3500\n",
      "[LightGBM] [Info] Start training from score -1.098572\n",
      "[LightGBM] [Info] Start training from score -1.098633\n",
      "[LightGBM] [Info] Start training from score -1.098633\n",
      "[LightGBM] [Info] Auto-choosing row-wise multi-threading, the overhead of testing was 0.192010 seconds.\n",
      "You can set `force_row_wise=true` to remove the overhead.\n",
      "And if memory is not enough, you can set `force_col_wise=true`.\n",
      "[LightGBM] [Info] Total Bins 634327\n",
      "[LightGBM] [Info] Number of data points in the train set: 49090, number of used features: 3500\n",
      "[LightGBM] [Info] Start training from score -1.098633\n",
      "[LightGBM] [Info] Start training from score -1.098633\n",
      "[LightGBM] [Info] Start training from score -1.098572\n",
      "[LightGBM] [Info] Auto-choosing col-wise multi-threading, the overhead of testing was 0.194741 seconds.\n",
      "You can set `force_col_wise=true` to remove the overhead.\n",
      "[LightGBM] [Info] Total Bins 633687\n",
      "[LightGBM] [Info] Number of data points in the train set: 49090, number of used features: 3500\n",
      "[LightGBM] [Info] Start training from score -1.098633\n",
      "[LightGBM] [Info] Start training from score -1.098572\n",
      "[LightGBM] [Info] Start training from score -1.098633\n",
      "[LightGBM] [Info] Auto-choosing col-wise multi-threading, the overhead of testing was 0.234179 seconds.\n",
      "You can set `force_col_wise=true` to remove the overhead.\n",
      "[LightGBM] [Info] Total Bins 692318\n",
      "[LightGBM] [Info] Number of data points in the train set: 61362, number of used features: 3500\n",
      "[LightGBM] [Info] Start training from score -1.098612\n",
      "[LightGBM] [Info] Start training from score -1.098612\n",
      "[LightGBM] [Info] Start training from score -1.098612\n",
      "Лучшие параметры: {'n_estimators': 300, 'num_leaves': 50}\n"
     ]
    }
   ],
   "source": [
    "model, tfidf = train_model(X_train, y_train, LGBMClassifier, balancing = True, use_grid_search=True, param_grid=param_grid,\n",
    "                    tfidf_max_features = 3500, tfidf_n_gram_range= (1, 1))\n",
    "    "
   ]
  },
  {
   "cell_type": "code",
   "execution_count": null,
   "id": "ac47d347-86a1-476d-8152-da85ae4f9775",
   "metadata": {},
   "outputs": [],
   "source": [
    "# Лучшие параметры: {'n_estimators': 300, 'num_leaves': 50}"
   ]
  },
  {
   "cell_type": "code",
   "execution_count": 135,
   "id": "3232ef2e-3cd0-4f91-9f90-ce69c2fe31d6",
   "metadata": {},
   "outputs": [
    {
     "name": "stderr",
     "output_type": "stream",
     "text": [
      "C:\\Users\\user\\anaconda3\\Lib\\site-packages\\sklearn\\preprocessing\\_label.py:97: DataConversionWarning:\n",
      "\n",
      "A column-vector y was passed when a 1d array was expected. Please change the shape of y to (n_samples, ), for example using ravel().\n",
      "\n",
      "C:\\Users\\user\\anaconda3\\Lib\\site-packages\\sklearn\\preprocessing\\_label.py:132: DataConversionWarning:\n",
      "\n",
      "A column-vector y was passed when a 1d array was expected. Please change the shape of y to (n_samples, ), for example using ravel().\n",
      "\n"
     ]
    },
    {
     "name": "stdout",
     "output_type": "stream",
     "text": [
      "[LightGBM] [Info] Auto-choosing row-wise multi-threading, the overhead of testing was 0.117212 seconds.\n",
      "You can set `force_row_wise=true` to remove the overhead.\n",
      "And if memory is not enough, you can set `force_col_wise=true`.\n",
      "[LightGBM] [Info] Total Bins 535312\n",
      "[LightGBM] [Info] Number of data points in the train set: 27443, number of used features: 3500\n",
      "[LightGBM] [Info] Start training from score -1.099027\n",
      "[LightGBM] [Info] Start training from score -1.098989\n",
      "[LightGBM] [Info] Start training from score -1.097821\n",
      "              precision    recall  f1-score   support\n",
      "\n",
      "         0.0       0.74      0.72      0.73      1147\n",
      "         1.0       0.60      0.27      0.37      1147\n",
      "         2.0       0.59      0.93      0.72      1147\n",
      "\n",
      "    accuracy                           0.64      3441\n",
      "   macro avg       0.65      0.64      0.61      3441\n",
      "weighted avg       0.65      0.64      0.61      3441\n",
      "\n"
     ]
    },
    {
     "data": {
      "image/png": "[encoded data removed]",
      "text/plain": [
       "<Figure size 640x480 with 2 Axes>"
      ]
     },
     "metadata": {},
     "output_type": "display_data"
    }
   ],
   "source": [
    "model, tfidf = train_model(X_train, y_train, LGBMClassifier, balancing = False,\n",
    "                    tfidf_max_features = 3500, tfidf_n_gram_range= (1, 1), class_weight = weights, num_leaves = 50, n_estimators = 300, objective = 'multiclass')\n",
    "\n",
    "\n",
    "\n",
    "X_tfidf = tfidf.transform(X_test)\n",
    "\n",
    "X_rus, y_rus = rus.fit_resample(X_tfidf, y_test)\n",
    "\n",
    "\n",
    "\n",
    "predictions = model.predict(X_rus)\n",
    "\n",
    "classification_metrics(predictions, y_rus, model.predict_proba(X_tfidf))"
   ]
  },
  {
   "cell_type": "code",
   "execution_count": 136,
   "id": "22e9e8b0-9362-4428-9f47-8a89ab1ffc29",
   "metadata": {},
   "outputs": [
    {
     "name": "stdout",
     "output_type": "stream",
     "text": [
      "[LightGBM] [Info] Auto-choosing col-wise multi-threading, the overhead of testing was 0.227077 seconds.\n",
      "You can set `force_col_wise=true` to remove the overhead.\n",
      "[LightGBM] [Info] Total Bins 692650\n",
      "[LightGBM] [Info] Number of data points in the train set: 61362, number of used features: 3500\n",
      "[LightGBM] [Info] Start training from score -1.098612\n",
      "[LightGBM] [Info] Start training from score -1.098612\n",
      "[LightGBM] [Info] Start training from score -1.098612\n",
      "              precision    recall  f1-score   support\n",
      "\n",
      "         0.0       0.74      0.71      0.73      1147\n",
      "         1.0       0.58      0.27      0.37      1147\n",
      "         2.0       0.58      0.92      0.71      1147\n",
      "\n",
      "    accuracy                           0.63      3441\n",
      "   macro avg       0.64      0.63      0.60      3441\n",
      "weighted avg       0.64      0.63      0.60      3441\n",
      "\n"
     ]
    },
    {
     "data": {
      "image/png": "[encoded data removed]",
      "text/plain": [
       "<Figure size 640x480 with 2 Axes>"
      ]
     },
     "metadata": {},
     "output_type": "display_data"
    }
   ],
   "source": [
    "model, tfidf = train_model(X_train, y_train, LGBMClassifier, balancing = True, balancing_type='oversampling',\n",
    "                           tfidf_max_features = 3500, tfidf_n_gram_range= (1, 1), \n",
    "                           n_estimators = 300, num_leaves = 50, objective = 'multiclass')\n",
    "\n",
    "\n",
    "\n",
    "\n",
    "X_tfidf = tfidf.transform(X_test)\n",
    "X_rus, y_rus = rus.fit_resample(X_tfidf, y_test)\n",
    "\n",
    "predictions = model.predict(X_rus)\n",
    "\n",
    "classification_metrics(predictions, y_rus, model.predict_proba(X_rus))"
   ]
  },
  {
   "cell_type": "code",
   "execution_count": 137,
   "id": "63509bd4-4679-430d-acee-12603df480f8",
   "metadata": {},
   "outputs": [
    {
     "name": "stdout",
     "output_type": "stream",
     "text": [
      "[LightGBM] [Info] Auto-choosing col-wise multi-threading, the overhead of testing was 0.220299 seconds.\n",
      "You can set `force_col_wise=true` to remove the overhead.\n",
      "[LightGBM] [Info] Total Bins 692382\n",
      "[LightGBM] [Info] Number of data points in the train set: 61362, number of used features: 3500\n",
      "[LightGBM] [Info] Start training from score -1.098612\n",
      "[LightGBM] [Info] Start training from score -1.098612\n",
      "[LightGBM] [Info] Start training from score -1.098612\n",
      "              precision    recall  f1-score   support\n",
      "\n",
      "         0.0       0.74      0.70      0.72      1147\n",
      "         1.0       0.60      0.28      0.38      1147\n",
      "         2.0       0.58      0.92      0.71      1147\n",
      "\n",
      "    accuracy                           0.63      3441\n",
      "   macro avg       0.64      0.63      0.60      3441\n",
      "weighted avg       0.64      0.63      0.60      3441\n",
      "\n"
     ]
    },
    {
     "data": {
      "image/png": "[encoded data removed]",
      "text/plain": [
       "<Figure size 640x480 with 2 Axes>"
      ]
     },
     "metadata": {},
     "output_type": "display_data"
    }
   ],
   "source": [
    "model, tfidf = train_model(X_train, y_train, LGBMClassifier, balancing = True, balancing_type='undersampling',\n",
    "                           tfidf_max_features = 3500, tfidf_n_gram_range= (1, 1), \n",
    "                           n_estimators = 300, num_leaves = 50, objective = 'multiclass')\n",
    "\n",
    "\n",
    "\n",
    "\n",
    "X_tfidf = tfidf.transform(X_test)\n",
    "X_rus, y_rus = rus.fit_resample(X_tfidf, y_test)\n",
    "\n",
    "predictions = model.predict(X_rus)\n",
    "\n",
    "classification_metrics(predictions, y_rus, model.predict_proba(X_rus))"
   ]
  }
 ],
 "metadata": {
  "kernelspec": {
   "display_name": "Python 3 (ipykernel)",
   "language": "python",
   "name": "python3"
  },
  "language_info": {
   "codemirror_mode": {
    "name": "ipython",
    "version": 3
   },
   "file_extension": ".py",
   "mimetype": "text/x-python",
   "name": "python",
   "nbconvert_exporter": "python",
   "pygments_lexer": "ipython3",
   "version": "3.12.4"
  }
 },
 "nbformat": 4,
 "nbformat_minor": 5
}
